{
 "cells": [
  {
   "cell_type": "code",
   "execution_count": 45,
   "metadata": {},
   "outputs": [],
   "source": [
    "import sys\n",
    "sys.dont_write_bytecode = True\n",
    "\n",
    "from pathlib import Path\n",
    "\n",
    "import numpy as np\n",
    "import matplotlib.pyplot as plt\n",
    "import pandas as pd\n",
    "import geopandas\n",
    "\n",
    "import matplotlib.pyplot as plt\n",
    "\n",
    "\n",
    "# Local imports.\n",
    "from property_prices.private_residential_data.private_residential_data import PrivateResidentialData\n",
    "from property_prices.vis_utils.vis_utils import plot_df\n",
    "\n",
    "\n",
    "# Data directories.\n",
    "processed_data_dir = Path(\"../data/processed_data/\")\n",
    "\n",
    "# Load processed and geocoded resale flat data.\n",
    "input_file_name = Path(\"condo_transactions-indexed.parquet\")\n",
    "\n",
    "# H3 cell creation using a specified resolution.\n",
    "RESOLUTION = 9"
   ]
  },
  {
   "cell_type": "code",
   "execution_count": null,
   "metadata": {},
   "outputs": [],
   "source": [
    "# Resale flat data (indexed).\n",
    "\n",
    "#price_col = \"transacted_price\"\n",
    "price_col = \"unit_price_psf\"\n",
    "price_index = \"price_index\"\n",
    "price_col_indexed = price_col + \"_indexed\"\n",
    "\n",
    "data = PrivateResidentialData(processed_data_dir / input_file_name)\n",
    "data.read_parquet()\n",
    "\n",
    "# For condominiums, restrict to single unit resales. \n",
    "data.df = data.df[data.df[\"number_of_units\"] == 1]\n",
    "data.df = data.df[data.df[\"type_of_area\"] == \"STRATA\"]\n",
    "\n",
    "#data.df = data.df[data.df[\"street_name\"] == \"BUKIT TIMAH ROAD\"]\n",
    "\n",
    "data.df[price_col_indexed] = data.df[price_col] / data.df[price_index]\n",
    "\n",
    "data.make_h3_geometries(resolution = RESOLUTION)\n",
    "\n",
    "display(data.df.head())\n",
    "print(\"Loaded df.shape: {}.\".format(data.df.shape))"
   ]
  },
  {
   "cell_type": "code",
   "execution_count": 52,
   "metadata": {},
   "outputs": [],
   "source": [
    "def quantile(X, q = 0.5, axis = None):\n",
    "    return np.quantile(X, q=q, axis=axis)\n",
    "\n",
    "\n",
    "median_df = data.df[[\"geometry\", price_col_indexed]].groupby([\"geometry\"]).aggregate(\"median\").reset_index()\n",
    "\n",
    "median_df = geopandas.GeoDataFrame(median_df)\n",
    "median_df = median_df.set_crs(data.df.crs)\n",
    "\n",
    "median_df[price_col_indexed] = median_df[price_col_indexed].apply(lambda x: int(round(x)))"
   ]
  },
  {
   "cell_type": "code",
   "execution_count": null,
   "metadata": {},
   "outputs": [],
   "source": [
    "plot_df(\n",
    "    median_df[[\"geometry\", price_col_indexed]], \n",
    "    plot_kwds = {\n",
    "        \"figsize\": [12, 12],\n",
    "        \"xlim\": [103.60152080468028, 104.0470051248534],\n",
    "        \"ylim\": [1.2359029533199608, 1.4733321131970046],\n",
    "        \"title\": \"{}\".format(\"Median transacted price [SGD].\"),\n",
    "        \"alpha\": 0.75,\n",
    "        \"categorical\": False,\n",
    "        \"column\": price_col_indexed,\n",
    "        \"legend\": True,\n",
    "        \"legend_kwds\": {\"label\": \"Transacted price [SGD].\"},\n",
    "        \"cmap\": 'viridis',\n",
    "        \"edgecolor\": None,\n",
    "        \"divider_kwds\": {\"position\": \"right\", \"size\": \"5%\", \"pad\": 0.1},\n",
    "    },\n",
    ")"
   ]
  },
  {
   "cell_type": "code",
   "execution_count": 59,
   "metadata": {},
   "outputs": [],
   "source": [
    "#data.df[data.df[\"geometry\"] == median_df.sort_values(price_col_indexed).iloc[-1][\"geometry\"]]"
   ]
  },
  {
   "cell_type": "code",
   "execution_count": null,
   "metadata": {},
   "outputs": [],
   "source": []
  }
 ],
 "metadata": {
  "kernelspec": {
   "display_name": "venv",
   "language": "python",
   "name": "python3"
  },
  "language_info": {
   "codemirror_mode": {
    "name": "ipython",
    "version": 3
   },
   "file_extension": ".py",
   "mimetype": "text/x-python",
   "name": "python",
   "nbconvert_exporter": "python",
   "pygments_lexer": "ipython3",
   "version": "3.11.11"
  }
 },
 "nbformat": 4,
 "nbformat_minor": 2
}
