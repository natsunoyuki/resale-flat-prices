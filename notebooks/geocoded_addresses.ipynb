{
 "cells": [
  {
   "cell_type": "code",
   "execution_count": null,
   "metadata": {},
   "outputs": [],
   "source": [
    "import sys\n",
    "sys.dont_write_bytecode = True\n",
    "\n",
    "from pathlib import Path\n",
    "from resale_flat_prices.geocode.geocoded_addresses import GeocodedAddresses\n",
    "\n",
    "\n",
    "data_dir = Path(\"../data/processed_data/\")"
   ]
  },
  {
   "cell_type": "code",
   "execution_count": null,
   "metadata": {},
   "outputs": [],
   "source": [
    "geocoded_addresses = GeocodedAddresses()\n",
    "\n",
    "address_list = [\"172 ANG MO KIO AVENUE 4\", \"503B Canberra Link\"]\n",
    "\n",
    "geocoded_addresses.update_geocoded_addresses(address_list)\n",
    "\n",
    "geocoded_addresses.address_dict"
   ]
  },
  {
   "cell_type": "code",
   "execution_count": null,
   "metadata": {},
   "outputs": [],
   "source": [
    "geocoded_addresses.address_dict[\"172 ANG MO KIO AVENUE 4\"][\"latitude\"] = 0\n",
    "geocoded_addresses.address_dict[\"172 ANG MO KIO AVENUE 4\"][\"longitude\"] = 0\n",
    "geocoded_addresses.address_dict[\"172 ANG MO KIO AVENUE 4\"][\"address\"] = \"\"\n",
    "\n",
    "geocoded_addresses.address_dict"
   ]
  },
  {
   "cell_type": "code",
   "execution_count": null,
   "metadata": {},
   "outputs": [],
   "source": [
    "geocoded_addresses.update_geocoded_addresses([address_list[0]], force_update = True)\n",
    "\n",
    "geocoded_addresses.address_dict"
   ]
  },
  {
   "cell_type": "code",
   "execution_count": null,
   "metadata": {},
   "outputs": [],
   "source": []
  }
 ],
 "metadata": {
  "kernelspec": {
   "display_name": "venv",
   "language": "python",
   "name": "python3"
  },
  "language_info": {
   "codemirror_mode": {
    "name": "ipython",
    "version": 3
   },
   "file_extension": ".py",
   "mimetype": "text/x-python",
   "name": "python",
   "nbconvert_exporter": "python",
   "pygments_lexer": "ipython3",
   "version": "3.9.19"
  }
 },
 "nbformat": 4,
 "nbformat_minor": 2
}
