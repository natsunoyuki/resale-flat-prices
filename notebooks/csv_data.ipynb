{
 "cells": [
  {
   "cell_type": "markdown",
   "metadata": {},
   "source": [
    "# Resale Flat Prices CSV Data\n",
    "\n",
    "https://data.gov.sg/collections/189/view"
   ]
  },
  {
   "cell_type": "code",
   "execution_count": null,
   "metadata": {},
   "outputs": [],
   "source": [
    "import sys\n",
    "sys.dont_write_bytecode = True\n",
    "\n",
    "import os\n",
    "from pathlib import Path\n",
    "\n",
    "# Local imports.\n",
    "from resale_flat_prices.csv_data.csv_data import CsvData\n",
    "\n",
    "\n",
    "data_dir = Path(\"../data/ResaleFlatPrices/\")\n",
    "\n",
    "csv_files = []\n",
    "for f in os.listdir(data_dir):\n",
    "    if f != \".DS_Store\":\n",
    "        csv_files.append(data_dir / f)\n",
    "\n",
    "print(csv_files)"
   ]
  },
  {
   "cell_type": "code",
   "execution_count": null,
   "metadata": {},
   "outputs": [],
   "source": [
    "resale_flat_data = CsvData(data_dir, wanted_columns=\"default\")\n",
    "resale_flat_data.load_csv_files()\n",
    "resale_flat_data.compile_csv_data()\n",
    "resale_flat_data.process_csv_data()\n",
    "\n",
    "print(type(resale_flat_data.df), resale_flat_data.df.shape)"
   ]
  },
  {
   "cell_type": "code",
   "execution_count": null,
   "metadata": {},
   "outputs": [],
   "source": [
    "wanted_cols = [\n",
    "    'year', 'month', \n",
    "    'town', 'street_name', \"block\",\n",
    "    'flat_type', 'storey_range', 'floor_area_sqm', 'flat_model', 'lease_commence_date', \n",
    "    'resale_price',\n",
    "]"
   ]
  },
  {
   "cell_type": "code",
   "execution_count": null,
   "metadata": {},
   "outputs": [],
   "source": [
    "resale_flat_data.df.head()"
   ]
  },
  {
   "cell_type": "code",
   "execution_count": null,
   "metadata": {},
   "outputs": [],
   "source": []
  }
 ],
 "metadata": {
  "kernelspec": {
   "display_name": "venv",
   "language": "python",
   "name": "python3"
  },
  "language_info": {
   "codemirror_mode": {
    "name": "ipython",
    "version": 3
   },
   "file_extension": ".py",
   "mimetype": "text/x-python",
   "name": "python",
   "nbconvert_exporter": "python",
   "pygments_lexer": "ipython3",
   "version": "3.9.19"
  }
 },
 "nbformat": 4,
 "nbformat_minor": 2
}
