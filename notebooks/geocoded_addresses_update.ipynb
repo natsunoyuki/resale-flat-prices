{
 "cells": [
  {
   "cell_type": "markdown",
   "metadata": {},
   "source": [
    "# Updating Geocoded Addresses\n",
    "\n",
    "This notebook demonstrates how to update geocoded addresses stored in `data/processed_data/geocoded_addresses.json`."
   ]
  },
  {
   "cell_type": "code",
   "execution_count": 1,
   "metadata": {},
   "outputs": [],
   "source": [
    "import sys\n",
    "sys.dont_write_bytecode = True\n",
    "\n",
    "from pathlib import Path\n",
    "from property_prices.geocode.geocoded_addresses import GeocodedAddresses\n",
    "\n",
    "\n",
    "data_dir = Path(\"../data/processed_data/\")"
   ]
  },
  {
   "cell_type": "code",
   "execution_count": 2,
   "metadata": {},
   "outputs": [],
   "source": [
    "geocoded_addresses = GeocodedAddresses()\n",
    "\n",
    "geocoded_addresses.read_json(data_dir / \"geocoded_addresses.json\")"
   ]
  },
  {
   "cell_type": "code",
   "execution_count": null,
   "metadata": {},
   "outputs": [],
   "source": [
    "address_list = sorted([\n",
    "    '6 JALAN BATU',\n",
    "])\n",
    "\n",
    "print(len(address_list))"
   ]
  },
  {
   "cell_type": "code",
   "execution_count": null,
   "metadata": {},
   "outputs": [],
   "source": [
    "for a in address_list:\n",
    "    print(a, geocoded_addresses.address_dict.get(a, None))"
   ]
  },
  {
   "cell_type": "code",
   "execution_count": null,
   "metadata": {},
   "outputs": [],
   "source": [
    "error_address_list = geocoded_addresses.update_geocoded_addresses(address_list, force_update=True)\n",
    "\n",
    "print(error_address_list)"
   ]
  },
  {
   "cell_type": "code",
   "execution_count": null,
   "metadata": {},
   "outputs": [],
   "source": [
    "for a in address_list:\n",
    "    print(a, geocoded_addresses.address_dict.get(a, None))"
   ]
  },
  {
   "cell_type": "code",
   "execution_count": null,
   "metadata": {},
   "outputs": [],
   "source": [
    "geocoded_addresses.address_dict[\"6 JALAN BATU\"][\"latitude\"] = 1.3012828792005662\n",
    "geocoded_addresses.address_dict[\"6 JALAN BATU\"][\"longitude\"] = 103.88399556973836\n",
    "geocoded_addresses.address_dict[\"6 JALAN BATU\"][\"address\"] = \"6 Jalan Batu, Singapore, 431006, Singapore\""
   ]
  },
  {
   "cell_type": "code",
   "execution_count": null,
   "metadata": {},
   "outputs": [],
   "source": [
    "for a in address_list:\n",
    "    print(a, geocoded_addresses.address_dict.get(a, None)), 103.88399556973836"
   ]
  },
  {
   "cell_type": "code",
   "execution_count": 17,
   "metadata": {},
   "outputs": [],
   "source": [
    "save = True\n",
    "\n",
    "if save is True:\n",
    "    geocoded_addresses.to_json(data_dir / \"geocoded_addresses.json\")"
   ]
  },
  {
   "cell_type": "code",
   "execution_count": null,
   "metadata": {},
   "outputs": [],
   "source": []
  }
 ],
 "metadata": {
  "kernelspec": {
   "display_name": "venv",
   "language": "python",
   "name": "python3"
  },
  "language_info": {
   "codemirror_mode": {
    "name": "ipython",
    "version": 3
   },
   "file_extension": ".py",
   "mimetype": "text/x-python",
   "name": "python",
   "nbconvert_exporter": "python",
   "pygments_lexer": "ipython3",
   "version": "3.11.11"
  }
 },
 "nbformat": 4,
 "nbformat_minor": 2
}
