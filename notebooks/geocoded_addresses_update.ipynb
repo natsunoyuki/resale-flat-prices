{
 "cells": [
  {
   "cell_type": "markdown",
   "metadata": {},
   "source": [
    "# Updating Geocoded Addresses\n",
    "\n",
    "This notebook demonstrates how to update geocoded addresses stored in `data/processed_data/geocoded_addresses.json`."
   ]
  },
  {
   "cell_type": "code",
   "execution_count": 1,
   "metadata": {},
   "outputs": [],
   "source": [
    "import sys\n",
    "sys.dont_write_bytecode = True\n",
    "\n",
    "from pathlib import Path\n",
    "import geopandas\n",
    "from shapely import Point\n",
    "\n",
    "# Local import.\n",
    "from property_prices.geocode.geocoded_addresses import GeocodedAddresses\n",
    "\n",
    "\n",
    "data_dir = Path(\"../data/processed_data/\")\n",
    "geojson_file = \"landed_addresses.json\""
   ]
  },
  {
   "cell_type": "code",
   "execution_count": null,
   "metadata": {},
   "outputs": [],
   "source": [
    "geocoded_addresses = GeocodedAddresses()\n",
    "\n",
    "geocoded_addresses.read_json(data_dir / geojson_file)\n",
    "\n",
    "print(geocoded_addresses.df.shape)"
   ]
  },
  {
   "cell_type": "code",
   "execution_count": null,
   "metadata": {},
   "outputs": [],
   "source": [
    "address_list = [\n",
    "    {\n",
    "        \"address\": \"JALAN MAHIR\", \n",
    "        \"geometry\": Point(1.344863625938808, 103.88411272740252),\n",
    "    },\n",
    "    {\n",
    "        \"address\": 'KURAU PLACE',\n",
    "        \"geometry\": Point(1.3118577027799774, 103.91451046681922),\n",
    "    },\n",
    "    {\n",
    "        \"address\": 'SHEPHERDS DRIVE',\n",
    "        \"geometry\": Point(1.2913886120383875, 103.80602042449051),\n",
    "    },\n",
    "    {\n",
    "        \"address\": 'ERNANI STREET',\n",
    "        \"geometry\": Point(1.3198937766442957, 103.92579532449042),\n",
    "    },\n",
    "    {\n",
    "        \"address\": 'KURAU TERRACE',\n",
    "        \"geometry\": Point(1.3120408027766786, 103.91559069565491),\n",
    "    },\n",
    "    {\n",
    "        \"address\": 'VEERAGOO CLOSE',\n",
    "        \"geometry\": Point(1.3574985277626026, 103.88261750914798),\n",
    "    },\n",
    "    {\n",
    "        \"address\": 'GERALD TERRACE',\n",
    "        \"geometry\": Point(1.3877922041199842, 103.87654999565464),\n",
    "    },\n",
    "    {\n",
    "        \"address\": 'SPRINGLEAF HEIGHT',\n",
    "        \"geometry\": Point(1.3981944268053736, 103.82348966681907),\n",
    "    },\n",
    "    {\n",
    "        \"address\": 'TUA KONG GREEN',\n",
    "        \"geometry\": Point(1.3182457766672695, 103.92515735332601),\n",
    "    },\n",
    "    {\n",
    "        \"address\": 'TUA KONG TERRACE',\n",
    "        \"geometry\": Point(1.3174593766782283, 103.92587992449035),\n",
    "    },\n",
    "    {\n",
    "        \"address\": 'TUA KONG PLACE',\n",
    "        \"geometry\": Point(1.3180428546622425, 103.92555319565483),\n",
    "    },\n",
    "    {\n",
    "        \"address\": 'DYSON ROAD\\\\CHANCERY HILL ROAD',\n",
    "        \"geometry\": Point(1.3271284, 103.83954765),\n",
    "    },\n",
    "    {\n",
    "        \"address\": 'SEA BREEZE GROVE',\n",
    "        \"geometry\": Point(1.337077776403155, 103.95334912449036),\n",
    "    },\n",
    "    {\n",
    "        \"address\": 'JALAN TARI DULANG',\n",
    "        \"geometry\": Point(1.400051249861666, 103.87038449565462),\n",
    "    },\n",
    "]\n",
    "\n",
    "print(len(address_list))"
   ]
  },
  {
   "cell_type": "code",
   "execution_count": 4,
   "metadata": {},
   "outputs": [],
   "source": [
    "for address in address_list:\n",
    "    address[\"geocoded_address\"] = address[\"address\"]\n",
    "    longitude = address[\"geometry\"].xy[1][0]\n",
    "    latitude = address[\"geometry\"].xy[0][0]\n",
    "    address[\"geometry\"] = Point(longitude, latitude)\n",
    "    address[\"longitude\"] = longitude\n",
    "    address[\"latitude\"] = latitude"
   ]
  },
  {
   "cell_type": "code",
   "execution_count": 5,
   "metadata": {},
   "outputs": [],
   "source": [
    "for address_dict in address_list:\n",
    "    geocoded_addresses.manually_update_geocoded_address(address_dict)"
   ]
  },
  {
   "cell_type": "code",
   "execution_count": null,
   "metadata": {},
   "outputs": [],
   "source": [
    "#error_address_list = geocoded_addresses.update_geocoded_addresses(address_list, force_update=True, country_codes=[\"sg\"])\n",
    "#print(error_address_list)"
   ]
  },
  {
   "cell_type": "code",
   "execution_count": 6,
   "metadata": {},
   "outputs": [],
   "source": [
    "save = True\n",
    "\n",
    "if save is True:\n",
    "    geocoded_addresses.to_json(data_dir / geojson_file)"
   ]
  },
  {
   "cell_type": "code",
   "execution_count": null,
   "metadata": {},
   "outputs": [],
   "source": []
  }
 ],
 "metadata": {
  "kernelspec": {
   "display_name": "venv",
   "language": "python",
   "name": "python3"
  },
  "language_info": {
   "codemirror_mode": {
    "name": "ipython",
    "version": 3
   },
   "file_extension": ".py",
   "mimetype": "text/x-python",
   "name": "python",
   "nbconvert_exporter": "python",
   "pygments_lexer": "ipython3",
   "version": "3.11.11"
  }
 },
 "nbformat": 4,
 "nbformat_minor": 2
}
