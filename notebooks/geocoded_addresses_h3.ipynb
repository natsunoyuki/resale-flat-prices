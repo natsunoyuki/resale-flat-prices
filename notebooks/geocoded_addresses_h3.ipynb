{
 "cells": [
  {
   "cell_type": "code",
   "execution_count": 2,
   "metadata": {},
   "outputs": [],
   "source": [
    "import sys\n",
    "sys.dont_write_bytecode = True\n",
    "\n",
    "from pathlib import Path\n",
    "from resale_flat_prices.geocode.geocoded_addresses import GeocodedAddresses\n",
    "\n",
    "\n",
    "data_dir = Path(\"../data/processed_data/\")"
   ]
  },
  {
   "cell_type": "code",
   "execution_count": 3,
   "metadata": {},
   "outputs": [
    {
     "name": "stdout",
     "output_type": "stream",
     "text": [
      "9861\n",
      "{}\n"
     ]
    }
   ],
   "source": [
    "geocoded_addresses = GeocodedAddresses()\n",
    "geocoded_addresses.read_json(data_dir / \"geocoded_addresses.json\")\n",
    "\n",
    "geocoded_problems = geocoded_addresses.verify_geocoded_latitudes_and_longitudes(country = \"SINGAPORE\")\n",
    "\n",
    "print(len(geocoded_addresses.address_dict))\n",
    "print(geocoded_problems)"
   ]
  },
  {
   "cell_type": "code",
   "execution_count": null,
   "metadata": {},
   "outputs": [
    {
     "data": {
      "text/html": [
       "<div>\n",
       "<style scoped>\n",
       "    .dataframe tbody tr th:only-of-type {\n",
       "        vertical-align: middle;\n",
       "    }\n",
       "\n",
       "    .dataframe tbody tr th {\n",
       "        vertical-align: top;\n",
       "    }\n",
       "\n",
       "    .dataframe thead th {\n",
       "        text-align: right;\n",
       "    }\n",
       "</style>\n",
       "<table border=\"1\" class=\"dataframe\">\n",
       "  <thead>\n",
       "    <tr style=\"text-align: right;\">\n",
       "      <th></th>\n",
       "      <th>address</th>\n",
       "      <th>latitude</th>\n",
       "      <th>longitude</th>\n",
       "      <th>h3</th>\n",
       "      <th>geometry</th>\n",
       "    </tr>\n",
       "  </thead>\n",
       "  <tbody>\n",
       "    <tr>\n",
       "      <th>0</th>\n",
       "      <td>172 ANG MO KIO AVENUE 4</td>\n",
       "      <td>1.374694</td>\n",
       "      <td>103.836463</td>\n",
       "      <td>88652636c7fffff</td>\n",
       "      <td>POLYGON ((103.83222 1.37243, 103.83637 1.36954...</td>\n",
       "    </tr>\n",
       "    <tr>\n",
       "      <th>1</th>\n",
       "      <td>510 ANG MO KIO AVENUE 8</td>\n",
       "      <td>1.373401</td>\n",
       "      <td>103.849073</td>\n",
       "      <td>88652636c5fffff</td>\n",
       "      <td>POLYGON ((103.85035 1.37614, 103.84619 1.37902...</td>\n",
       "    </tr>\n",
       "    <tr>\n",
       "      <th>2</th>\n",
       "      <td>610 ANG MO KIO AVENUE 4</td>\n",
       "      <td>1.379395</td>\n",
       "      <td>103.839157</td>\n",
       "      <td>88652636ebfffff</td>\n",
       "      <td>POLYGON ((103.84619 1.37902, 103.84669 1.38411...</td>\n",
       "    </tr>\n",
       "    <tr>\n",
       "      <th>3</th>\n",
       "      <td>474 ANG MO KIO AVENUE 10</td>\n",
       "      <td>1.362758</td>\n",
       "      <td>103.858015</td>\n",
       "      <td>886526361bfffff</td>\n",
       "      <td>POLYGON ((103.86282 1.36747, 103.85866 1.37036...</td>\n",
       "    </tr>\n",
       "    <tr>\n",
       "      <th>4</th>\n",
       "      <td>604 ANG MO KIO AVENUE 5</td>\n",
       "      <td>1.379867</td>\n",
       "      <td>103.835977</td>\n",
       "      <td>886526368dfffff</td>\n",
       "      <td>POLYGON ((103.82906 1.38549, 103.82856 1.3804,...</td>\n",
       "    </tr>\n",
       "  </tbody>\n",
       "</table>\n",
       "</div>"
      ],
      "text/plain": [
       "                    address  latitude   longitude               h3  \\\n",
       "0   172 ANG MO KIO AVENUE 4  1.374694  103.836463  88652636c7fffff   \n",
       "1   510 ANG MO KIO AVENUE 8  1.373401  103.849073  88652636c5fffff   \n",
       "2   610 ANG MO KIO AVENUE 4  1.379395  103.839157  88652636ebfffff   \n",
       "3  474 ANG MO KIO AVENUE 10  1.362758  103.858015  886526361bfffff   \n",
       "4   604 ANG MO KIO AVENUE 5  1.379867  103.835977  886526368dfffff   \n",
       "\n",
       "                                            geometry  \n",
       "0  POLYGON ((103.83222 1.37243, 103.83637 1.36954...  \n",
       "1  POLYGON ((103.85035 1.37614, 103.84619 1.37902...  \n",
       "2  POLYGON ((103.84619 1.37902, 103.84669 1.38411...  \n",
       "3  POLYGON ((103.86282 1.36747, 103.85866 1.37036...  \n",
       "4  POLYGON ((103.82906 1.38549, 103.82856 1.3804,...  "
      ]
     },
     "execution_count": 12,
     "metadata": {},
     "output_type": "execute_result"
    }
   ],
   "source": [
    "df = geocoded_addresses.make_h3_geometries(resolution = 8, crs = \"EPSG:4326\")\n",
    "\n",
    "df.head()"
   ]
  },
  {
   "cell_type": "code",
   "execution_count": null,
   "metadata": {},
   "outputs": [],
   "source": []
  }
 ],
 "metadata": {
  "kernelspec": {
   "display_name": "venv",
   "language": "python",
   "name": "python3"
  },
  "language_info": {
   "codemirror_mode": {
    "name": "ipython",
    "version": 3
   },
   "file_extension": ".py",
   "mimetype": "text/x-python",
   "name": "python",
   "nbconvert_exporter": "python",
   "pygments_lexer": "ipython3",
   "version": "3.9.19"
  }
 },
 "nbformat": 4,
 "nbformat_minor": 2
}
