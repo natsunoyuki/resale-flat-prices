{
 "cells": [
  {
   "cell_type": "code",
   "execution_count": null,
   "metadata": {},
   "outputs": [],
   "source": [
    "import sys\n",
    "sys.dont_write_bytecode = True\n",
    "\n",
    "from pathlib import Path\n",
    "from resale_flat_prices.geocode.geocoded_addresses import GeocodedAddresses\n",
    "\n",
    "import geopy\n",
    "\n",
    "data_dir = Path(\"../data/processed_data/\")\n",
    "\n",
    "json_file = \"geocoded_addresses.json\""
   ]
  },
  {
   "cell_type": "code",
   "execution_count": null,
   "metadata": {},
   "outputs": [],
   "source": [
    "geocoded_addresses = GeocodedAddresses()\n",
    "geocoded_addresses.read_json(data_dir / json_file)\n",
    "\n",
    "geocoded_problems = geocoded_addresses.verify_geocoded_latitudes_and_longitudes(country = \"SINGAPORE\")\n",
    "\n",
    "# print(len(geocoded_addresses.address_dict))\n",
    "# print(geocoded_problems)\n",
    "\n",
    "for k, v in geocoded_problems.items():\n",
    "    print(k, v[\"address\"])"
   ]
  },
  {
   "cell_type": "code",
   "execution_count": null,
   "metadata": {},
   "outputs": [],
   "source": [
    "geocoded_addresses.update_geocoded_addresses(geocoded_problems, country_codes = [\"sg\"], force_update = True)"
   ]
  },
  {
   "cell_type": "code",
   "execution_count": null,
   "metadata": {},
   "outputs": [],
   "source": [
    "geocoded_problems = geocoded_addresses.verify_geocoded_latitudes_and_longitudes(country = \"SINGAPORE\")\n",
    "\n",
    "geocoded_problems"
   ]
  },
  {
   "cell_type": "code",
   "execution_count": null,
   "metadata": {},
   "outputs": [],
   "source": [
    "# df = geocoded_addresses.make_h3_geometries(resolution = 8, crs = \"EPSG:4326\")\n",
    "# df.head()"
   ]
  },
  {
   "cell_type": "code",
   "execution_count": null,
   "metadata": {},
   "outputs": [],
   "source": [
    "geocoded_addresses.to_json(data_dir / json_file)"
   ]
  },
  {
   "cell_type": "code",
   "execution_count": null,
   "metadata": {},
   "outputs": [],
   "source": []
  }
 ],
 "metadata": {
  "kernelspec": {
   "display_name": "venv",
   "language": "python",
   "name": "python3"
  },
  "language_info": {
   "codemirror_mode": {
    "name": "ipython",
    "version": 3
   },
   "file_extension": ".py",
   "mimetype": "text/x-python",
   "name": "python",
   "nbconvert_exporter": "python",
   "pygments_lexer": "ipython3",
   "version": "3.9.19"
  }
 },
 "nbformat": 4,
 "nbformat_minor": 2
}
