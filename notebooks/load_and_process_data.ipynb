{
 "cells": [
  {
   "cell_type": "markdown",
   "metadata": {},
   "source": [
    "# Resale Flat Prices\n",
    "\n",
    "https://data.gov.sg/collections/189/view"
   ]
  },
  {
   "cell_type": "code",
   "execution_count": 1,
   "metadata": {},
   "outputs": [],
   "source": [
    "import sys\n",
    "sys.dont_write_bytecode = True\n",
    "\n",
    "import os\n",
    "from pathlib import Path\n",
    "\n",
    "import numpy as np\n",
    "import matplotlib.pyplot as plt\n",
    "import pandas as pd\n",
    "\n",
    "# Local imports.\n",
    "from resale_flat_prices.resale_flat_data.resale_flat_data import ResaleFlatData"
   ]
  },
  {
   "cell_type": "code",
   "execution_count": null,
   "metadata": {},
   "outputs": [],
   "source": [
    "data_dir = Path(\"../data/ResaleFlatPrices/\")"
   ]
  },
  {
   "cell_type": "code",
   "execution_count": null,
   "metadata": {},
   "outputs": [],
   "source": [
    "csv_files = []\n",
    "for f in os.listdir(data_dir):\n",
    "    if f != \".DS_Store\":\n",
    "        csv_files.append(data_dir / f)\n",
    "\n",
    "print(csv_files)"
   ]
  },
  {
   "cell_type": "code",
   "execution_count": null,
   "metadata": {},
   "outputs": [],
   "source": [
    "resale_flat_data = ResaleFlatData(data_dir, wanted_columns=\"default\")\n",
    "resale_flat_data.load_csv_files()\n",
    "resale_flat_data.compile_data()\n",
    "resale_flat_data.process_data()"
   ]
  },
  {
   "cell_type": "code",
   "execution_count": null,
   "metadata": {},
   "outputs": [],
   "source": [
    "wanted_cols = [\n",
    "    'year', 'month', \n",
    "    'town', 'street_name', \"block\",\n",
    "    'flat_type', 'storey_range', 'floor_area_sqm', 'flat_model', 'lease_commence_date', \n",
    "    'resale_price',\n",
    "]"
   ]
  }
 ],
 "metadata": {
  "kernelspec": {
   "display_name": "venv",
   "language": "python",
   "name": "python3"
  },
  "language_info": {
   "codemirror_mode": {
    "name": "ipython",
    "version": 3
   },
   "file_extension": ".py",
   "mimetype": "text/x-python",
   "name": "python",
   "nbconvert_exporter": "python",
   "pygments_lexer": "ipython3",
   "version": "3.9.19"
  }
 },
 "nbformat": 4,
 "nbformat_minor": 2
}
