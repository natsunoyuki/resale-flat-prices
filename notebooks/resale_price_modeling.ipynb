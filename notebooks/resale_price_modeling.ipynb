{
 "cells": [
  {
   "cell_type": "code",
   "execution_count": 2,
   "metadata": {},
   "outputs": [],
   "source": [
    "import sys\n",
    "sys.dont_write_bytecode = True\n",
    "\n",
    "from pathlib import Path\n",
    "\n",
    "import numpy as np\n",
    "import matplotlib.pyplot as plt\n",
    "import pandas as pd\n",
    "import geopandas\n",
    "\n",
    "import matplotlib.pyplot as plt\n",
    "\n",
    "\n",
    "# Local imports.\n",
    "from resale_flat_prices.resale_flat_data.resale_flat_data import ResaleFlatData\n",
    "from resale_flat_prices.resale_flat_data.rent_prices_data import RentPricesData\n",
    "from resale_flat_prices.h3_utils.h3_statistics import monthly_median_price\n",
    "from resale_flat_prices.vis_utils.vis_utils import plot_df\n",
    "\n",
    "\n",
    "# Data directories.\n",
    "csv_data_dir = Path(\"../data/ResaleFlatPrices/\")\n",
    "processed_data_dir = Path(\"../data/processed_data/\")\n",
    "\n",
    "# Load processed and geocoded resale flat data.\n",
    "resale_flat_data_csv_file = \"resale-flat-prices.csv.zip\"\n",
    "rent_prices_data_csv_file = \"rent-prices.csv.zip\""
   ]
  },
  {
   "cell_type": "code",
   "execution_count": null,
   "metadata": {},
   "outputs": [],
   "source": [
    "# H3 cell creation using a specified resolution.\n",
    "RESOLUTION = 9\n",
    "\n",
    "# Calculate the median prices.\n",
    "datetime_column = \"year_quarter\"\n",
    "price_column = \"price_per_sqft\"\n",
    "rent_column = \"monthly_rent\"\n",
    "\n",
    "# Resale flat data.\n",
    "resale_flat_data = ResaleFlatData(processed_data_dir / resale_flat_data_csv_file)\n",
    "resale_flat_data.read_csv()\n",
    "resale_flat_data.df = resale_flat_data.df.sort_values([\"year_month\", \"town\"])\n",
    "\n",
    "# Create additional datetime columns indicating the quarter the resale occured in.\n",
    "resale_flat_data.df[\"quarter\"] = resale_flat_data.df[\"month\"].apply(lambda x: int(np.ceil(x / 3)))\n",
    "\n",
    "resale_flat_data.df = resale_flat_data.df[[\n",
    "    'year', 'month', 'quarter', 'town', 'town_cleaned', 'block',\n",
    "    'street_name', 'street_name_cleaned', 'address', 'storey_range',\n",
    "    'storey_range_num', 'flat_type', 'flat_type_num', 'flat_model',\n",
    "    'floor_area_sqm', 'floor_area_norm', 'lease_commence_date', 'age',\n",
    "    'latitude', 'longitude', 'resale_price', 'price_per_sqm', 'price_per_sqft'\n",
    "]]\n",
    "\n",
    "display(resale_flat_data.df[[\"year\", \"month\", \"address\", \"flat_type\", \"storey_range\", \"resale_price\"]].head())\n",
    "print(\"Resale flat data DataFrame: {}.\".format(resale_flat_data.df.shape))"
   ]
  },
  {
   "cell_type": "code",
   "execution_count": 9,
   "metadata": {},
   "outputs": [],
   "source": [
    "resale_df = resale_flat_data.df.copy()"
   ]
  },
  {
   "cell_type": "code",
   "execution_count": null,
   "metadata": {},
   "outputs": [],
   "source": []
  }
 ],
 "metadata": {
  "kernelspec": {
   "display_name": "venv",
   "language": "python",
   "name": "python3"
  },
  "language_info": {
   "codemirror_mode": {
    "name": "ipython",
    "version": 3
   },
   "file_extension": ".py",
   "mimetype": "text/x-python",
   "name": "python",
   "nbconvert_exporter": "python",
   "pygments_lexer": "ipython3",
   "version": "3.11.11"
  }
 },
 "nbformat": 4,
 "nbformat_minor": 2
}
