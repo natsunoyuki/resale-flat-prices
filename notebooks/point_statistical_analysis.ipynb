{
 "cells": [
  {
   "cell_type": "code",
   "execution_count": null,
   "metadata": {},
   "outputs": [],
   "source": [
    "import sys\n",
    "sys.dont_write_bytecode = True\n",
    "\n",
    "import os\n",
    "from pathlib import Path\n",
    "\n",
    "import numpy as np\n",
    "import matplotlib.pyplot as plt\n",
    "import pandas as pd\n",
    "import geopandas\n",
    "\n",
    "import h3\n",
    "import matplotlib.pyplot as plt\n",
    "from mpl_toolkits.axes_grid1 import make_axes_locatable\n",
    "import contextily as cx\n",
    "\n",
    "\n",
    "# Local imports.\n",
    "from resale_flat_prices.resale_flat_data.resale_flat_data import ResaleFlatData\n",
    "\n",
    "\n",
    "# Data directories.\n",
    "csv_data_dir = Path(\"../data/ResaleFlatPrices/\")\n",
    "processed_data_dir = Path(\"../data/processed_data/\")"
   ]
  },
  {
   "cell_type": "code",
   "execution_count": null,
   "metadata": {},
   "outputs": [],
   "source": [
    "# Load processed and geocoded data.\n",
    "csv_file = \"resale-flat-prices.csv.zip\"\n",
    "\n",
    "disp_columns = [\n",
    "    \"year_month\", \"town\", \"block\", \"street_name\", \"flat_type\", \"storey_range\", \"floor_area_sqm\", \"age\",\n",
    "    \"resale_price\", \"price_per_sqm\", \"price_per_sqft\"\n",
    "]\n",
    "\n",
    "resale_flat_data = ResaleFlatData(processed_data_dir / csv_file)\n",
    "resale_flat_data.read_csv()\n",
    "resale_flat_data.df = resale_flat_data.df.sort_values([\"year_month\", \"town\"])\n",
    "\n",
    "resale_flat_data.df[\"quarter\"] = resale_flat_data.df[\"month\"].apply(lambda x: int(np.ceil(x / 3)))\n",
    "resale_flat_data.df[\"year_quarter\"] = resale_flat_data.df.apply(lambda DF: str(DF[\"year\"]) + \"-\" + str(DF[\"quarter\"]), axis = 1)\n",
    "\n",
    "#display(resale_flat_data.df[disp_columns].tail())\n",
    "print(resale_flat_data.df.shape)"
   ]
  },
  {
   "cell_type": "code",
   "execution_count": null,
   "metadata": {},
   "outputs": [],
   "source": [
    "datetime_column = \"year_quarter\"\n",
    "wanted_datetimes = [\n",
    "    \"2024-4\", \"2024-3\", \n",
    "    #\"2024-2\", \"2024-1\",\n",
    "]\n",
    "price_column = \"price_per_sqft\"\n",
    "\n",
    "resale_flat_data.df = resale_flat_data.df[resale_flat_data.df[\"year_quarter\"].isin(wanted_datetimes)]\n",
    "resale_flat_data.make_point_geometries(crs = \"EPSG:4326\")"
   ]
  },
  {
   "cell_type": "code",
   "execution_count": null,
   "metadata": {},
   "outputs": [],
   "source": [
    "fig, ax = plt.subplots(figsize = [12, 12])\n",
    "divider = make_axes_locatable(ax)\n",
    "cax = divider.append_axes(**{\"position\": \"right\", \"size\": \"5%\", \"pad\": 0.1})\n",
    "\n",
    "ax.set_xlim([103.60152080468028, 104.0470051248534])\n",
    "ax.set_ylim([1.2359029533199608, 1.4733321131970046])\n",
    "ax.set_title(\"{} {} {}.\".format(datetime_column, wanted_datetimes, price_column))\n",
    "\n",
    "resale_flat_data.df.plot(\n",
    "    ax = ax,\n",
    "    alpha = 1.0,\n",
    "    column = price_column, \n",
    "    categorical = False,\n",
    "    legend = True, \n",
    "    legend_kwds = {\"label\": \"price_per_sqft\"},\n",
    "    cmap = 'viridis',\n",
    "    edgecolor = None,\n",
    "    cax = cax,\n",
    ")\n",
    "\n",
    "cx.add_basemap(ax, crs = resale_flat_data.df.crs, source = cx.providers.CartoDB.Positron)\n",
    "fig.tight_layout()\n",
    "plt.show()"
   ]
  },
  {
   "cell_type": "code",
   "execution_count": null,
   "metadata": {},
   "outputs": [],
   "source": []
  }
 ],
 "metadata": {
  "kernelspec": {
   "display_name": "venv",
   "language": "python",
   "name": "python3"
  },
  "language_info": {
   "codemirror_mode": {
    "name": "ipython",
    "version": 3
   },
   "file_extension": ".py",
   "mimetype": "text/x-python",
   "name": "python",
   "nbconvert_exporter": "python",
   "pygments_lexer": "ipython3",
   "version": "3.9.19"
  }
 },
 "nbformat": 4,
 "nbformat_minor": 2
}
