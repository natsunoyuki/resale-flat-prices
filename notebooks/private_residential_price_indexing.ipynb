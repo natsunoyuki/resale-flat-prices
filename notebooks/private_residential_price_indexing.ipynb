{
 "cells": [
  {
   "cell_type": "markdown",
   "metadata": {},
   "source": [
    "# Private Residential Transaction Price Indexing"
   ]
  },
  {
   "cell_type": "code",
   "execution_count": 1,
   "metadata": {},
   "outputs": [],
   "source": [
    "import sys\n",
    "sys.dont_write_bytecode = True\n",
    "\n",
    "from pathlib import Path\n",
    "import numpy as np\n",
    "import pandas as pd\n",
    "\n",
    "from sklearn.metrics import r2_score\n",
    "from sklearn.ensemble import RandomForestRegressor\n",
    "\n",
    "import matplotlib.pyplot as plt\n",
    "\n",
    "# Local imports.\n",
    "from property_prices.private_residential_data.private_residential_data import PrivateResidentialData\n",
    "\n",
    "\n",
    "# Data directories.\n",
    "processed_data_dir = Path(\"../data/processed_data/\")\n",
    "\n",
    "file_name = \"landed_transactions.parquet\"\n",
    "output_file_name = \"landed_transactions-indexed.parquet\"\n",
    "\n",
    "#price_column = \"transacted_price\"\n",
    "price_column = \"unit_price_psf\""
   ]
  },
  {
   "cell_type": "code",
   "execution_count": null,
   "metadata": {},
   "outputs": [],
   "source": [
    "private_residential_data = PrivateResidentialData(processed_data_dir / file_name)\n",
    "\n",
    "private_residential_data.read_parquet()\n",
    "\n",
    "private_residential_data.df = private_residential_data.df.sort_values([\"datetime\", \"street_name\"])\n",
    "\n",
    "unique_street_names = sorted(list(private_residential_data.df[\"street_name\"].unique()))\n",
    "\n",
    "min_datetime = private_residential_data.df[\"datetime\"].min()\n",
    "max_datetime = private_residential_data.df[\"datetime\"].max()\n",
    "min_year = min_datetime.year\n",
    "\n",
    "display(private_residential_data.df.head())\n",
    "print(\"Loaded private residential data shape: {}.\".format(private_residential_data.df.shape))"
   ]
  },
  {
   "cell_type": "code",
   "execution_count": null,
   "metadata": {},
   "outputs": [],
   "source": [
    "print(private_residential_data.df[\"street_name\"].value_counts())"
   ]
  },
  {
   "cell_type": "code",
   "execution_count": null,
   "metadata": {},
   "outputs": [],
   "source": [
    "# Make time series of the aggregated transaction price for each unit area.\n",
    "datetime_df = pd.DataFrame(\n",
    "    {\"datetime\": np.arange(min_datetime, max_datetime + np.timedelta64(31, \"D\"), dtype = 'datetime64[M]')}\n",
    ")\n",
    "datetime_df[\"X\"] = np.arange(1, len(datetime_df) + 1, 1) / len(datetime_df)\n",
    "\n",
    "dfs = {}\n",
    "dfs_rent = {}\n",
    "for s in unique_street_names:\n",
    "    if np.sum(private_residential_data.df[\"street_name\"] == s) > 0:\n",
    "        dfs[s] = private_residential_data.df[private_residential_data.df[\"street_name\"] == s]\n",
    "        dfs[s] = dfs[s][[\"datetime\", price_column]].groupby([\"datetime\"]).median().reset_index()\n",
    "        dfs[s] = pd.merge(\n",
    "            datetime_df, dfs[s], left_on = [\"datetime\"], right_on = [\"datetime\"], how = \"left\"\n",
    "        )\n",
    "        dfs[s] = dfs[s].dropna()\n",
    "\n",
    "print(\"{} unique resale street names.\".format(len(dfs.keys())))\n",
    "\n",
    "X_pred_months = datetime_df[\"datetime\"].values.astype(\"datetime64[M]\")\n",
    "X_pred = datetime_df[\"X\"].values\n",
    "X_pred = X_pred.reshape(-1, 1)\n",
    "\n",
    "future_months = 1\n",
    "for i in range(future_months):\n",
    "    X_pred_months = np.hstack([X_pred_months, X_pred_months[-1] + 1])\n",
    "    X_pred = np.vstack([X_pred, X_pred[-1] + (X_pred[-1] - X_pred[-2])])"
   ]
  },
  {
   "cell_type": "code",
   "execution_count": null,
   "metadata": {},
   "outputs": [],
   "source": [
    "# Transaction price indexing model training.\n",
    "n_estimators = 50\n",
    "max_depth = 2\n",
    "min_samples_leaf = 2\n",
    "max_depth_low_data = 1\n",
    "low_data_threshold = 10\n",
    "criterion = \"absolute_error\"\n",
    "\n",
    "models = {}\n",
    "y_preds = {}\n",
    "scores = {}\n",
    "for k in dfs.keys():\n",
    "    y = dfs[k][price_column].values\n",
    "    X = dfs[k][\"X\"].values.reshape(-1, 1)\n",
    "    if len(y) >= low_data_threshold:\n",
    "        models[k] = RandomForestRegressor(\n",
    "            n_estimators=n_estimators, max_depth=max_depth, criterion=criterion, min_samples_leaf=min_samples_leaf,\n",
    "        )\n",
    "        #models[k] = LinearInversion(error_type=\"l1\", vander_order=3)\n",
    "    else:\n",
    "        models[k] = RandomForestRegressor(\n",
    "            n_estimators=n_estimators, max_depth=max_depth_low_data, criterion=criterion, min_samples_leaf=min_samples_leaf,\n",
    "        )\n",
    "        #models[k] = LinearInversion(error_type=\"l2\", vander_order=2)\n",
    "\n",
    "    models[k].fit(X, y)\n",
    "    y_pred = models[k].predict(X)\n",
    "    dfs[k][\"prediction\"] = y_pred\n",
    "    y_pred = y_pred / y_pred[-1]\n",
    "    dfs[k][\"price_index\"] = y_pred\n",
    "    y_preds[k] = models[k].predict(X_pred)\n",
    "    scores[k] = r2_score(y, models[k].predict(X))"
   ]
  },
  {
   "cell_type": "code",
   "execution_count": 36,
   "metadata": {},
   "outputs": [],
   "source": [
    "# Update price DataFrames with price indexes.\n",
    "price_index_df = pd.DataFrame()\n",
    "for k in dfs.keys():\n",
    "    _df = dfs[k][[\"datetime\", \"price_index\"]].copy()\n",
    "    _df[\"street_name\"] = k\n",
    "    price_index_df = pd.concat([price_index_df, _df])\n",
    "\n",
    "data_indexed_df = private_residential_data.df.merge(\n",
    "    price_index_df, \n",
    "    how = \"left\", \n",
    "    left_on=[\"datetime\", \"street_name\"],\n",
    "    right_on=[\"datetime\", \"street_name\"],\n",
    ")\n",
    "assert len(private_residential_data.df) == len(data_indexed_df)"
   ]
  },
  {
   "cell_type": "code",
   "execution_count": null,
   "metadata": {},
   "outputs": [],
   "source": [
    "plt.hist([scores[k] for k in scores.keys()], bins = 10)\n",
    "plt.xlabel(\"R2 scores\")\n",
    "plt.ylabel(\"Histogram\")\n",
    "plt.grid(True)\n",
    "plt.show()"
   ]
  },
  {
   "cell_type": "code",
   "execution_count": null,
   "metadata": {},
   "outputs": [],
   "source": [
    "aggregated_resale_r2 = 0\n",
    "N = 0\n",
    "for k in dfs.keys():\n",
    "    if not np.isnan(scores[k]):\n",
    "        aggregated_resale_r2 = aggregated_resale_r2 + scores[k] * len(dfs[k][price_column].values)\n",
    "        N = N + len(dfs[k][price_column].values)\n",
    "aggregated_resale_r2 = aggregated_resale_r2 / N\n",
    "print(\"Resale price R2: {:.3f}.\".format(aggregated_resale_r2))"
   ]
  },
  {
   "cell_type": "code",
   "execution_count": null,
   "metadata": {},
   "outputs": [],
   "source": [
    "plt.figure(figsize = [15, 5])\n",
    "_df = data_indexed_df[[\"datetime\", \"price_index\"]].groupby([\"datetime\"]).median().reset_index()\n",
    "plt.plot(_df[\"datetime\"], _df[\"price_index\"], \"k\", linewidth=2)\n",
    "\n",
    "for k in dfs.keys():\n",
    "    plt.plot(dfs[k][\"datetime\"], dfs[k][\"price_index\"], \"tab:gray\", alpha = 0.5)\n",
    "\n",
    "_df = data_indexed_df[[\"datetime\", \"price_index\"]].groupby([\"datetime\"]).median().reset_index()\n",
    "plt.plot(_df[\"datetime\"], _df[\"price_index\"], \"k\", linewidth=2)\n",
    "\n",
    "plt.grid(True)\n",
    "plt.legend([\"Resale index\", \"Rent index\"])\n",
    "plt.xlabel(\"Datetime\")\n",
    "plt.ylabel(\"Normalized index\")\n",
    "plt.show()"
   ]
  },
  {
   "cell_type": "code",
   "execution_count": null,
   "metadata": {},
   "outputs": [],
   "source": [
    "k = \"VERDE CRESCENT\"\n",
    "\n",
    "\n",
    "plt.figure(figsize = [15, 5])\n",
    "if dfs.get(k, None) is not None:\n",
    "    plt.plot(dfs[k][\"datetime\"], dfs[k][price_column], \"o\")\n",
    "    plt.plot(X_pred_months, y_preds[k])\n",
    "\n",
    "plt.legend([\"Price data\", \"Price prediction\"])\n",
    "plt.grid(True)\n",
    "plt.title(k)\n",
    "plt.ylabel(price_column)\n",
    "\n",
    "plt.show()"
   ]
  },
  {
   "cell_type": "code",
   "execution_count": null,
   "metadata": {},
   "outputs": [],
   "source": [
    "# Output indexed prices to disk.\n",
    "save_to_disk = False\n",
    "\n",
    "parquet_compression = \"brotli\"\n",
    "\n",
    "if save_to_disk is True:\n",
    "    # Output the merged processed resale flat prices data to disk.\n",
    "    out_path = processed_data_dir / output_file_name\n",
    "    print(\"Saving processed resale flat prices data to {}.\".format(out_path))\n",
    "    if out_path.suffix == \".zip\":\n",
    "        data_indexed_df.to_csv(out_path, index=False, compression=\"zip\")\n",
    "    elif out_path.suffix == \".json\":\n",
    "        data_indexed_df.to_file(out_path, driver=\"GeoJSON\")\n",
    "    elif out_path.suffix == \".parquet\":\n",
    "        data_indexed_df.to_parquet(out_path, index=False, compression=parquet_compression)"
   ]
  },
  {
   "cell_type": "code",
   "execution_count": null,
   "metadata": {},
   "outputs": [],
   "source": []
  }
 ],
 "metadata": {
  "kernelspec": {
   "display_name": "venv",
   "language": "python",
   "name": "python3"
  },
  "language_info": {
   "codemirror_mode": {
    "name": "ipython",
    "version": 3
   },
   "file_extension": ".py",
   "mimetype": "text/x-python",
   "name": "python",
   "nbconvert_exporter": "python",
   "pygments_lexer": "ipython3",
   "version": "3.11.11"
  }
 },
 "nbformat": 4,
 "nbformat_minor": 2
}
