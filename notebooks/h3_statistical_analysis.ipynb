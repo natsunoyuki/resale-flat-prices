{
 "cells": [
  {
   "cell_type": "code",
   "execution_count": null,
   "metadata": {},
   "outputs": [],
   "source": [
    "import sys\n",
    "sys.dont_write_bytecode = True\n",
    "\n",
    "from pathlib import Path\n",
    "\n",
    "import numpy as np\n",
    "import matplotlib.pyplot as plt\n",
    "import pandas as pd\n",
    "import geopandas\n",
    "\n",
    "import matplotlib.pyplot as plt\n",
    "\n",
    "\n",
    "# Local imports.\n",
    "from resale_flat_prices.resale_flat_data.resale_flat_data import ResaleFlatData\n",
    "from resale_flat_prices.resale_flat_data.rent_prices_data import RentPricesData\n",
    "from resale_flat_prices.h3_utils.h3_statistics import monthly_median_price, monthly_max_price\n",
    "from resale_flat_prices.vis_utils.vis_utils import plot_df\n",
    "\n",
    "\n",
    "# Data directories.\n",
    "csv_data_dir = Path(\"../data/ResaleFlatPrices/\")\n",
    "processed_data_dir = Path(\"../data/processed_data/\")"
   ]
  },
  {
   "cell_type": "code",
   "execution_count": null,
   "metadata": {},
   "outputs": [],
   "source": [
    "# Load processed and geocoded resale flat data.\n",
    "resale_flat_data_csv_file = \"resale-flat-prices.csv.zip\"\n",
    "\n",
    "# H3 cell creation using a specified resolution.\n",
    "RESOLUTION = 12\n",
    "\n",
    "# Calculate the median prices.\n",
    "datetime_column = \"year_quarter\"\n",
    "wanted_datetimes = [\n",
    "    \"2024-Q4\", \"2024-Q3\", \n",
    "    # \"2024-Q2\", \"2024-Q1\"\n",
    "]\n",
    "price_column = \"price_per_sqft\"\n",
    "\n",
    "# Display columns.\n",
    "disp_columns = [\n",
    "    \"year_month\", \"town\", \"block\", \"street_name\", \"flat_type\", \"storey_range\", \"floor_area_sqm\", \"age\",\n",
    "    \"resale_price\", \"price_per_sqft\", \"h3\"\n",
    "]\n",
    "\n",
    "resale_flat_data = ResaleFlatData(processed_data_dir / resale_flat_data_csv_file)\n",
    "resale_flat_data.read_csv()\n",
    "resale_flat_data.df = resale_flat_data.df.sort_values([\"year_month\", \"town\"])\n",
    "\n",
    "# Create additional datetime columns indicating the quarter the resale occured in.\n",
    "resale_flat_data.df[\"quarter\"] = resale_flat_data.df[\"month\"].apply(lambda x: int(np.ceil(x / 3)))\n",
    "resale_flat_data.df[\"year_quarter\"] = resale_flat_data.df.apply(lambda DF: str(DF[\"year\"]) + \"-Q\" + str(DF[\"quarter\"]), axis = 1)\n",
    "\n",
    "# Restrict the resale dateetimes to prevent processing of unneeded data.\n",
    "# resale_flat_data.df = resale_flat_data.df[resale_flat_data.df[datetime_column].isin(wanted_datetimes)]\n",
    "\n",
    "STREET_NAME = \"ANG MO KIO AVENUE 1\"\n",
    "TOWN = \"CENTRAL AREA\"\n",
    "ADDRESS = \"333 ANG MO KIO AVENUE 1\"\n",
    "\n",
    "#resale_flat_data.df = resale_flat_data.df[resale_flat_data.df[\"town\"] == TOWN]\n",
    "resale_flat_data.df = resale_flat_data.df[resale_flat_data.df[\"street_name_cleaned\"] == STREET_NAME]\n",
    "#resale_flat_data.df = resale_flat_data.df[resale_flat_data.df[\"address\"] == ADDRESS]\n",
    "\n",
    "print(\"Resale flat data DataFrame: {}.\".format(resale_flat_data.df.shape))"
   ]
  },
  {
   "cell_type": "code",
   "execution_count": null,
   "metadata": {},
   "outputs": [],
   "source": [
    "resale_flat_data.make_h3_geometries(resolution = RESOLUTION)\n",
    "\n",
    "df = resale_flat_data.df.copy()\n",
    "unique_cells = df[[\"h3\", \"geometry\"]].drop_duplicates()\n",
    "\n",
    "cols_to_disp = [\"year_month\", \"town\", \"block\", \"street_name\", \"flat_type\", \"storey_range\", \"price_per_sqft\", \"h3\"]\n",
    "\n",
    "# display(df[cols_to_disp].sort_values(price_column, ascending = False).head(20))\n",
    "# print(df.shape)"
   ]
  },
  {
   "cell_type": "code",
   "execution_count": null,
   "metadata": {},
   "outputs": [],
   "source": [
    "cell_monthly_median_prices_df = monthly_max_price(df, datetime_column, price_column, \"h3\")\n",
    "cell_monthly_median_prices_df = geopandas.GeoDataFrame(cell_monthly_median_prices_df)\n",
    "\n",
    "median_prices_df = cell_monthly_median_prices_df[cell_monthly_median_prices_df[datetime_column].isin(wanted_datetimes)]\n",
    "median_prices_df = median_prices_df.merge(right = unique_cells, left_on = \"h3\", right_on = \"h3\", how = \"left\")\n",
    "median_prices_df = median_prices_df[[\"h3\", \"geometry\", price_column]].groupby([\"h3\", \"geometry\"]).aggregate(\"mean\").reset_index()\n",
    "median_prices_df = geopandas.GeoDataFrame(median_prices_df, crs = df.crs)\n",
    "\n",
    "median_prices_df = median_prices_df.sort_values([price_column], ascending = False)\n",
    "\n",
    "#display(median_prices_df.head(10))"
   ]
  },
  {
   "cell_type": "code",
   "execution_count": null,
   "metadata": {},
   "outputs": [],
   "source": [
    "#expensive_h3_cells = median_prices_df[\"h3\"].values\n",
    "#for i in range(len(expensive_h3_cells[:10])):\n",
    "#    print(df[df[\"h3\"] == expensive_h3_cells[i]][\"street_name_cleaned\"].unique())"
   ]
  },
  {
   "cell_type": "code",
   "execution_count": null,
   "metadata": {},
   "outputs": [],
   "source": [
    "#i = 3\n",
    "#df[df[\"h3\"] == expensive_h3_cells[i]].sort_values(price_column, ascending=False)[disp_columns]"
   ]
  },
  {
   "cell_type": "code",
   "execution_count": null,
   "metadata": {},
   "outputs": [],
   "source": [
    "plot_df(\n",
    "    median_prices_df, \n",
    "    plot_kwds = {\n",
    "        \"figsize\": [12, 12],\n",
    "        #\"xlim\": [103.60152080468028, 104.0470051248534],\n",
    "        #\"ylim\": [1.2359029533199608, 1.4733321131970046],\n",
    "        \"title\": \"{} {}.\".format(\"Average HDB resale price (SGD) per sqft for\", \", \".join(sorted(wanted_datetimes))),\n",
    "        \"alpha\": 0.5,\n",
    "        \"categorical\": False,\n",
    "        \"column\": price_column,\n",
    "        \"legend\": True,\n",
    "        \"legend_kwds\": {\"label\": \"Price (SGD) per sqft.\"},\n",
    "        \"cmap\": 'viridis',\n",
    "        \"edgecolor\": None,\n",
    "        \"divider_kwds\": {\"position\": \"right\", \"size\": \"5%\", \"pad\": 0.1},\n",
    "    },\n",
    ")"
   ]
  },
  {
   "cell_type": "code",
   "execution_count": null,
   "metadata": {},
   "outputs": [],
   "source": [
    "# Load processed and geocoded rent flat data.\n",
    "rent_prices_data_csv_file = \"rent-prices.csv.zip\"\n",
    "\n",
    "rent_column = \"monthly_rent\"\n",
    "\n",
    "# Display columns.\n",
    "disp_columns = [\n",
    "    'year_month', 'month', 'year', 'town', 'block', 'street_name', 'address', 'flat_type', \"h3\", 'monthly_rent', \n",
    "]\n",
    "\n",
    "\n",
    "rent_prices_data = RentPricesData(processed_data_dir / rent_prices_data_csv_file)\n",
    "rent_prices_data.read_csv()\n",
    "rent_prices_data.df = rent_prices_data.df.sort_values([\"year_month\", \"town\"])\n",
    "\n",
    "# Create additional datetime columns indicating the quarter the resale occured in.\n",
    "rent_prices_data.df[\"quarter\"] = rent_prices_data.df[\"month\"].apply(lambda x: int(np.ceil(x / 3)))\n",
    "rent_prices_data.df[\"year_quarter\"] = rent_prices_data.df.apply(lambda DF: str(DF[\"year\"]) + \"-Q\" + str(DF[\"quarter\"]), axis = 1)\n",
    "\n",
    "# Restrict the resale dateetimes to prevent processing of unneeded data.\n",
    "rent_prices_data.df = rent_prices_data.df[rent_prices_data.df[datetime_column].isin(wanted_datetimes)]\n",
    "\n",
    "#rent_prices_data.df = rent_prices_data.df[rent_prices_data.df[\"town\"] == TOWN]\n",
    "rent_prices_data.df = rent_prices_data.df[rent_prices_data.df[\"street_name_cleaned\"] == STREET_NAME]\n",
    "#rent_prices_data.df = rent_prices_data.df[rent_prices_data.df[\"address\"] == ADDRESS]\n",
    "\n",
    "print(\"Rent prices data DataFrame: {}.\".format(rent_prices_data.df.shape))"
   ]
  },
  {
   "cell_type": "code",
   "execution_count": null,
   "metadata": {},
   "outputs": [],
   "source": [
    "rent_prices_data.make_h3_geometries(resolution = RESOLUTION)\n",
    "\n",
    "rent_df = rent_prices_data.df.copy()\n",
    "unique_cells = rent_df[[\"h3\", \"geometry\"]].drop_duplicates()\n",
    "\n",
    "cols_to_disp = [\"year_month\", \"town\", \"block\", \"street_name\", \"flat_type\", \"monthly_rent\", \"h3\"]\n",
    "\n",
    "# display(df[cols_to_disp].sort_values(price_column, ascending = False).head(20))\n",
    "# print(df.shape)"
   ]
  },
  {
   "cell_type": "code",
   "execution_count": null,
   "metadata": {},
   "outputs": [],
   "source": [
    "cell_monthly_median_rents_df = monthly_max_price(rent_df, datetime_column, rent_column, \"h3\")\n",
    "cell_monthly_median_rents_df = geopandas.GeoDataFrame(cell_monthly_median_rents_df)\n",
    "\n",
    "median_rents_df = cell_monthly_median_rents_df[cell_monthly_median_rents_df[datetime_column].isin(wanted_datetimes)]\n",
    "median_rents_df = median_rents_df.merge(right = unique_cells, left_on = \"h3\", right_on = \"h3\", how = \"left\")\n",
    "median_rents_df = median_rents_df[[\"h3\", \"geometry\", rent_column]].groupby([\"h3\", \"geometry\"]).aggregate(\"mean\").reset_index()\n",
    "median_rents_df = geopandas.GeoDataFrame(median_rents_df, crs = df.crs)\n",
    "\n",
    "median_rents_df = median_rents_df.sort_values([rent_column], ascending = False)\n",
    "\n",
    "display(median_rents_df.head(10))"
   ]
  },
  {
   "cell_type": "code",
   "execution_count": null,
   "metadata": {},
   "outputs": [],
   "source": [
    "plot_df(\n",
    "    median_rents_df, \n",
    "    plot_kwds = {\n",
    "        \"figsize\": [12, 12],\n",
    "        #\"xlim\": [103.60152080468028, 104.0470051248534],\n",
    "        #\"ylim\": [1.2359029533199608, 1.4733321131970046],\n",
    "        \"title\": \"{} {}.\".format(\"Average HDB rent (SGD) for\", \", \".join(sorted(wanted_datetimes))),\n",
    "        \"alpha\": 0.5,\n",
    "        \"categorical\": False,\n",
    "        \"column\": rent_column,\n",
    "        \"legend\": True,\n",
    "        \"legend_kwds\": {\"label\": \"Rent (SGD).\"},\n",
    "        \"cmap\": 'viridis',\n",
    "        \"edgecolor\": None,\n",
    "        \"divider_kwds\": {\"position\": \"right\", \"size\": \"5%\", \"pad\": 0.1},\n",
    "    },\n",
    ")"
   ]
  },
  {
   "cell_type": "code",
   "execution_count": null,
   "metadata": {},
   "outputs": [],
   "source": []
  }
 ],
 "metadata": {
  "kernelspec": {
   "display_name": "venv",
   "language": "python",
   "name": "python3"
  },
  "language_info": {
   "codemirror_mode": {
    "name": "ipython",
    "version": 3
   },
   "file_extension": ".py",
   "mimetype": "text/x-python",
   "name": "python",
   "nbconvert_exporter": "python",
   "pygments_lexer": "ipython3",
   "version": "3.9.19"
  }
 },
 "nbformat": 4,
 "nbformat_minor": 2
}
