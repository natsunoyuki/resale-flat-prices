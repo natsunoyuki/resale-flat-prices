{
 "cells": [
  {
   "cell_type": "code",
   "execution_count": null,
   "metadata": {},
   "outputs": [],
   "source": [
    "import sys\n",
    "sys.dont_write_bytecode = True\n",
    "\n",
    "import os\n",
    "from pathlib import Path\n",
    "\n",
    "import numpy as np\n",
    "import matplotlib.pyplot as plt\n",
    "import pandas as pd\n",
    "import geopandas\n",
    "\n",
    "import h3\n",
    "import matplotlib.pyplot as plt\n",
    "\n",
    "\n",
    "# Local imports.\n",
    "from resale_flat_prices.resale_flat_data.resale_flat_data import ResaleFlatData\n",
    "from resale_flat_prices.h3_utils.h3_statistics import monthly_median_price\n",
    "from resale_flat_prices.h3_utils.h3_vis_utils import plot_df\n",
    "\n",
    "\n",
    "# Data directories.\n",
    "csv_data_dir = Path(\"../data/ResaleFlatPrices/\")\n",
    "processed_data_dir = Path(\"../data/processed_data/\")"
   ]
  },
  {
   "cell_type": "code",
   "execution_count": null,
   "metadata": {},
   "outputs": [],
   "source": [
    "# Load processed and geocoded data.\n",
    "csv_file = \"resale-flat-prices.csv.zip\"\n",
    "\n",
    "disp_columns = [\n",
    "    \"year_month\", \"town\", \"block\", \"street_name\", \"flat_type\", \"storey_range\", \"floor_area_sqm\", \"age\",\n",
    "    \"resale_price\", \"price_per_sqm\", \"price_per_sqft\"\n",
    "]\n",
    "\n",
    "resale_flat_data = ResaleFlatData(processed_data_dir / csv_file)\n",
    "resale_flat_data.read_csv()\n",
    "resale_flat_data.df = resale_flat_data.df.sort_values([\"year_month\", \"town\"])\n",
    "\n",
    "resale_flat_data.df[\"quarter\"] = resale_flat_data.df[\"month\"].apply(lambda x: int(np.ceil(x / 3)))\n",
    "resale_flat_data.df[\"year_quarter\"] = resale_flat_data.df.apply(lambda DF: str(DF[\"year\"]) + \"-\" + str(DF[\"quarter\"]), axis = 1)\n",
    "\n",
    "#display(resale_flat_data.df[disp_columns].tail())\n",
    "print(resale_flat_data.df.shape)"
   ]
  },
  {
   "cell_type": "code",
   "execution_count": null,
   "metadata": {},
   "outputs": [],
   "source": [
    "# H3 cell creation using a specified resolution.\n",
    "RESOLUTION = 9\n",
    "\n",
    "resale_flat_data.make_h3_geometries(resolution = RESOLUTION)\n",
    "\n",
    "disp_columns = [\n",
    "    \"year_month\", \"town\", \"block\", \"street_name\", \"flat_type\", \"storey_range\", \"floor_area_sqm\", \"age\",\n",
    "    \"resale_price\", \"price_per_sqft\", \"h3\"\n",
    "]\n",
    "\n",
    "df = resale_flat_data.df.copy()\n",
    "unique_cells = df[[\"h3\", \"geometry\"]].drop_duplicates()\n",
    "\n",
    "#display(df[[\"year_month\", \"town\", \"block\", \"street_name\", \"flat_type\", \"storey_range\", \"price_per_sqft\", \"h3\"]].tail())\n",
    "print(df.shape)"
   ]
  },
  {
   "cell_type": "code",
   "execution_count": null,
   "metadata": {},
   "outputs": [],
   "source": [
    "# Calculate the median prices.\n",
    "datetime_column = \"year_quarter\"\n",
    "wanted_datetimes = [\"2024-4\", \"2024-3\"]\n",
    "price_column = \"price_per_sqft\"\n",
    "\n",
    "cell_monthly_median_prices_df = monthly_median_price(df, datetime_column, price_column, \"h3\")\n",
    "cell_monthly_median_prices_df = geopandas.GeoDataFrame(cell_monthly_median_prices_df)\n",
    "\n",
    "median_prices_df = cell_monthly_median_prices_df[cell_monthly_median_prices_df[datetime_column].isin(wanted_datetimes)]\n",
    "median_prices_df = median_prices_df.merge(right = unique_cells, left_on = \"h3\", right_on = \"h3\", how = \"left\")\n",
    "median_prices_df = median_prices_df[[\"h3\", \"geometry\", price_column]].groupby([\"h3\", \"geometry\"]).aggregate(\"mean\").reset_index()\n",
    "median_prices_df = geopandas.GeoDataFrame(median_prices_df, crs = df.crs)\n",
    "\n",
    "median_prices_df = median_prices_df.sort_values([price_column])\n",
    "\n",
    "display(median_prices_df.tail())"
   ]
  },
  {
   "cell_type": "code",
   "execution_count": null,
   "metadata": {},
   "outputs": [],
   "source": [
    "plot_df(\n",
    "    median_prices_df, \n",
    "    plot_kwds = {\n",
    "        \"figsize\": [12, 12],\n",
    "        \"xlim\": [103.60152080468028, 104.0470051248534],\n",
    "        \"ylim\": [1.2359029533199608, 1.4733321131970046],\n",
    "        \"alpha\": 0.5,\n",
    "        \"categorical\": False,\n",
    "        \"column\": \"price_per_sqft\",\n",
    "        \"legend\": True,\n",
    "        \"legend_kwds\": {\"label\": \"price_per_sqft\"},\n",
    "        \"cmap\": 'viridis',\n",
    "        \"edgecolor\": None,\n",
    "        \"divider_kwds\": {\"position\": \"right\", \"size\": \"5%\", \"pad\": 0.1},\n",
    "    },\n",
    ")"
   ]
  },
  {
   "cell_type": "code",
   "execution_count": null,
   "metadata": {},
   "outputs": [],
   "source": []
  }
 ],
 "metadata": {
  "kernelspec": {
   "display_name": "venv",
   "language": "python",
   "name": "python3"
  },
  "language_info": {
   "codemirror_mode": {
    "name": "ipython",
    "version": 3
   },
   "file_extension": ".py",
   "mimetype": "text/x-python",
   "name": "python",
   "nbconvert_exporter": "python",
   "pygments_lexer": "ipython3",
   "version": "3.9.19"
  }
 },
 "nbformat": 4,
 "nbformat_minor": 2
}
