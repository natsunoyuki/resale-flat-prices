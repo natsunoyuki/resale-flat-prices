{
 "cells": [
  {
   "cell_type": "code",
   "execution_count": 42,
   "metadata": {},
   "outputs": [],
   "source": [
    "import sys\n",
    "sys.dont_write_bytecode = True\n",
    "\n",
    "from pathlib import Path\n",
    "\n",
    "import numpy as np\n",
    "import matplotlib.pyplot as plt\n",
    "import pandas as pd\n",
    "import geopandas\n",
    "\n",
    "import matplotlib.pyplot as plt\n",
    "\n",
    "\n",
    "# Local imports.\n",
    "from resale_flat_prices.resale_flat_data.resale_flat_data import ResaleFlatData\n",
    "from resale_flat_prices.resale_flat_data.rent_prices_data import RentPricesData\n",
    "from resale_flat_prices.vis_utils.vis_utils import plot_df\n",
    "\n",
    "\n",
    "# Data directories.\n",
    "csv_data_dir = Path(\"../data/ResaleFlatPrices/\")\n",
    "processed_data_dir = Path(\"../data/processed_data/\")\n",
    "\n",
    "# Load processed and geocoded resale flat data.\n",
    "resale_flat_data_csv_file = \"resale-flat-prices-indexed.parquet\"\n",
    "rent_prices_data_csv_file = \"rent-prices-indexed.parquet\"\n",
    "\n",
    "# H3 cell creation using a specified resolution.\n",
    "RESOLUTION = 9"
   ]
  },
  {
   "cell_type": "code",
   "execution_count": null,
   "metadata": {},
   "outputs": [],
   "source": [
    "# Resale flat data (indexed).\n",
    "\n",
    "price_col = \"resale_price\" #\"price_per_sqft\"\n",
    "price_index = \"price_index\"\n",
    "price_col_indexed = price_col + \"_indexed\"\n",
    "\n",
    "resale_flat_data = ResaleFlatData(processed_data_dir / resale_flat_data_csv_file)\n",
    "resale_flat_data.read_parquet()\n",
    "resale_flat_data.df = resale_flat_data.df.sort_values([\"datetime\", \"town\", \"street_name\", \"block\"])\n",
    "resale_flat_data.df = resale_flat_data.df.reset_index(drop = True)\n",
    "\n",
    "#resale_flat_data.df = resale_flat_data.df[resale_flat_data.df[\"town\"] == \"TOA PAYOH\"]\n",
    "\n",
    "resale_flat_data.df[price_col_indexed] = resale_flat_data.df[price_col] / resale_flat_data.df[price_index]\n",
    "\n",
    "resale_flat_data.make_h3_geometries(resolution = RESOLUTION)\n",
    "\n",
    "#display(resale_flat_data.df.head())\n",
    "print(\"Loaded resale_flat_data.df.shape: {}.\".format(resale_flat_data.df.shape))"
   ]
  },
  {
   "cell_type": "code",
   "execution_count": null,
   "metadata": {},
   "outputs": [],
   "source": [
    "# Rent data (indexed).\n",
    "\n",
    "rent_col = \"monthly_rent\"\n",
    "rent_index = \"rent_index\"\n",
    "rent_col_indexed = rent_col + \"_indexed\"\n",
    "\n",
    "rent_data = RentPricesData(processed_data_dir / rent_prices_data_csv_file)\n",
    "rent_data.read_parquet()\n",
    "rent_data.df = rent_data.df.sort_values([\"datetime\", \"town\", \"street_name\", \"block\"])\n",
    "rent_data.df = rent_data.df.reset_index(drop = True)\n",
    "\n",
    "rent_data.df[rent_col_indexed] = rent_data.df[rent_col] / rent_data.df[rent_index]\n",
    "\n",
    "rent_data.make_h3_geometries(resolution = RESOLUTION)\n",
    "\n",
    "#display(rent_data.df.head())\n",
    "print(\"Loaded rent_data.df.shape: {}.\".format(rent_data.df.shape))"
   ]
  },
  {
   "cell_type": "code",
   "execution_count": 62,
   "metadata": {},
   "outputs": [],
   "source": [
    "def quantile(X, q = 0.5, axis = None):\n",
    "    return np.quantile(X, q=q, axis=axis)\n",
    "\n",
    "\n",
    "median_resale_prices_df = resale_flat_data.df[\n",
    "    [\"geometry\", price_col_indexed]\n",
    "].groupby([\"geometry\"]).aggregate(\"median\").reset_index()\n",
    "\n",
    "median_resale_prices_df = geopandas.GeoDataFrame(median_resale_prices_df)\n",
    "median_resale_prices_df = median_resale_prices_df.set_crs(resale_flat_data.df.crs)\n",
    "\n",
    "median_resale_prices_df[price_col_indexed] = median_resale_prices_df[price_col_indexed].apply(lambda x: int(round(x)))"
   ]
  },
  {
   "cell_type": "code",
   "execution_count": 63,
   "metadata": {},
   "outputs": [],
   "source": [
    "median_rent_df = rent_data.df[\n",
    "    [\"geometry\", rent_col_indexed]\n",
    "].groupby([\"geometry\"]).aggregate(\"median\").reset_index()\n",
    "\n",
    "median_rent_df = geopandas.GeoDataFrame(median_rent_df)\n",
    "median_rent_df = median_rent_df.set_crs(rent_data.df.crs)\n",
    "\n",
    "median_rent_df[rent_col_indexed] = median_rent_df[rent_col_indexed].apply(lambda x: int(round(x)))"
   ]
  },
  {
   "cell_type": "code",
   "execution_count": 83,
   "metadata": {},
   "outputs": [],
   "source": [
    "median_df = median_resale_prices_df.merge(\n",
    "    median_rent_df, how = \"outer\", on = \"geometry\",\n",
    ")\n",
    "\n",
    "median_df[\"rent_price_ratio\"] = median_df[rent_col_indexed] / median_df[price_col_indexed]\n",
    "\n",
    "median_df[price_col_indexed] = median_df[price_col_indexed] / 100000"
   ]
  },
  {
   "cell_type": "code",
   "execution_count": null,
   "metadata": {},
   "outputs": [],
   "source": [
    "plot_df(\n",
    "    median_df[[\"geometry\", price_col_indexed]], \n",
    "    plot_kwds = {\n",
    "        \"figsize\": [12, 12],\n",
    "        \"xlim\": [103.60152080468028, 104.0470051248534],\n",
    "        \"ylim\": [1.2359029533199608, 1.4733321131970046],\n",
    "        \"title\": \"{}\".format(\"Median HDB resale price [100k SGD] per sqft.\"),\n",
    "        \"alpha\": 0.75,\n",
    "        \"categorical\": False,\n",
    "        \"column\": price_col_indexed,\n",
    "        \"legend\": True,\n",
    "        \"legend_kwds\": {\"label\": \"Price [100k SGD] per sqft.\"},\n",
    "        \"cmap\": 'viridis',\n",
    "        \"edgecolor\": None,\n",
    "        \"divider_kwds\": {\"position\": \"right\", \"size\": \"5%\", \"pad\": 0.1},\n",
    "    },\n",
    ")"
   ]
  },
  {
   "cell_type": "code",
   "execution_count": null,
   "metadata": {},
   "outputs": [],
   "source": [
    "plot_df(\n",
    "    median_df[[\"geometry\", rent_col_indexed]], \n",
    "    plot_kwds = {\n",
    "        \"figsize\": [12, 12],\n",
    "        \"xlim\": [103.60152080468028, 104.0470051248534],\n",
    "        \"ylim\": [1.2359029533199608, 1.4733321131970046],\n",
    "        \"title\": \"{}\".format(\"Median rent [SGD].\"),\n",
    "        \"alpha\": 0.75,\n",
    "        \"categorical\": False,\n",
    "        \"column\": rent_col_indexed,\n",
    "        \"legend\": True,\n",
    "        \"legend_kwds\": {\"label\": \"Rent [SGD].\"},\n",
    "        \"cmap\": 'viridis',\n",
    "        \"edgecolor\": None,\n",
    "        \"divider_kwds\": {\"position\": \"right\", \"size\": \"5%\", \"pad\": 0.1},\n",
    "    },\n",
    ")"
   ]
  },
  {
   "cell_type": "code",
   "execution_count": null,
   "metadata": {},
   "outputs": [],
   "source": []
  }
 ],
 "metadata": {
  "kernelspec": {
   "display_name": "venv",
   "language": "python",
   "name": "python3"
  },
  "language_info": {
   "codemirror_mode": {
    "name": "ipython",
    "version": 3
   },
   "file_extension": ".py",
   "mimetype": "text/x-python",
   "name": "python",
   "nbconvert_exporter": "python",
   "pygments_lexer": "ipython3",
   "version": "3.11.11"
  }
 },
 "nbformat": 4,
 "nbformat_minor": 2
}
