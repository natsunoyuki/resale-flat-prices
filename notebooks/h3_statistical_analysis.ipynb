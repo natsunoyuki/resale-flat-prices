{
 "cells": [
  {
   "cell_type": "code",
   "execution_count": null,
   "metadata": {},
   "outputs": [],
   "source": [
    "import sys\n",
    "sys.dont_write_bytecode = True\n",
    "\n",
    "import os\n",
    "from pathlib import Path\n",
    "\n",
    "import numpy as np\n",
    "import matplotlib.pyplot as plt\n",
    "import pandas as pd\n",
    "import geopandas\n",
    "\n",
    "import h3\n",
    "import matplotlib.pyplot as plt\n",
    "import contextily as cx\n",
    "\n",
    "# Local imports.\n",
    "from resale_flat_prices.resale_flat_data.resale_flat_data import ResaleFlatData\n",
    "from resale_flat_prices.h3_utils.h3_statistics import grid_ring_monthly_median_price\n",
    "from resale_flat_prices.h3_utils.h3_vis_utils import plot_df\n",
    "\n",
    "\n",
    "# Data directories.\n",
    "csv_data_dir = Path(\"../data/ResaleFlatPrices/\")\n",
    "processed_data_dir = Path(\"../data/processed_data/\")"
   ]
  },
  {
   "cell_type": "code",
   "execution_count": null,
   "metadata": {},
   "outputs": [],
   "source": [
    "csv_file = \"resale-flat-prices.csv.zip\"\n",
    "\n",
    "resale_flat_data = ResaleFlatData(processed_data_dir / csv_file)\n",
    "resale_flat_data.read_csv()\n",
    "\n",
    "display(resale_flat_data.df[[\"year_month\", \"town\", \"block\", \"street_name\", \"flat_type\", \"storey_range\", \"price_per_sqft\"]].head())\n",
    "print(resale_flat_data.df.shape)"
   ]
  },
  {
   "cell_type": "code",
   "execution_count": null,
   "metadata": {},
   "outputs": [],
   "source": [
    "# H3 cell creation.\n",
    "RESOLUTION = 9\n",
    "\n",
    "resale_flat_data.make_h3_geometries(resolution = RESOLUTION)\n",
    "\n",
    "display(resale_flat_data.df[[\"year_month\", \"town\", \"block\", \"street_name\", \"flat_type\", \"storey_range\", \"price_per_sqft\", \"h3\"]].head())\n",
    "print(resale_flat_data.df.shape)"
   ]
  },
  {
   "cell_type": "code",
   "execution_count": null,
   "metadata": {},
   "outputs": [],
   "source": [
    "df = resale_flat_data.df.copy()\n",
    "\n",
    "median_price = df[[\"year_month\", \"price_per_sqft\", \"h3\"]].groupby([\"year_month\", \"h3\"]).median().reset_index()\n",
    "\n",
    "median_price"
   ]
  },
  {
   "cell_type": "code",
   "execution_count": null,
   "metadata": {},
   "outputs": [],
   "source": [
    "df = resale_flat_data.df.copy()\n",
    "\n",
    "unique_cells = df[[\"h3\", \"geometry\"]].drop_duplicates()\n",
    "\n",
    "display(df[[\"year_month\", \"town\", \"block\", \"street_name\", \"flat_type\", \"storey_range\", \"price_per_sqft\"]].head())\n",
    "print(df.shape)"
   ]
  },
  {
   "cell_type": "code",
   "execution_count": null,
   "metadata": {},
   "outputs": [],
   "source": [
    "year_months = [\"2024-11\", \"2024-10\", \"2024-09\", \"2024-08\", \"2024-07\", \"2024-06\", \"2024-05\"]\n",
    "price_column = \"price_per_sqft\"\n",
    "\n",
    "median_prices_df = grid_ring_monthly_median_price(\n",
    "    df,\n",
    "    date_column = \"year_month\", \n",
    "    price_column = price_column,\n",
    "    grid_ring_distance = 1,\n",
    "    h3_column_name = \"h3\",\n",
    ")\n",
    "median_prices_df = geopandas.GeoDataFrame(median_prices_df)\n",
    "\n",
    "median_prices_df_want = median_prices_df[median_prices_df[\"year_month\"].isin(year_months)]\n",
    "median_prices_df_want = median_prices_df_want.merge(right = unique_cells, left_on = \"h3\", right_on = \"h3\", how = \"left\")\n",
    "median_prices_df_want = median_prices_df_want.groupby([\"year_month\", \"h3\", \"geometry\"]).aggregate(\"mean\").reset_index()\n",
    "median_prices_df_want = geopandas.GeoDataFrame(median_prices_df_want, crs = df.crs)\n",
    "\n",
    "median_prices_df_want.head()"
   ]
  },
  {
   "cell_type": "code",
   "execution_count": null,
   "metadata": {},
   "outputs": [],
   "source": [
    "plot_df(\n",
    "    df, \n",
    "    plot_kwds = {\n",
    "        \"figsize\": [12, 12],\n",
    "        \"xlim\": [103.60152080468028, 104.0470051248534],\n",
    "        \"ylim\": [1.2359029533199608, 1.4723321131970046],\n",
    "        \"alpha\": 0.5,\n",
    "        \"categorical\": False,\n",
    "        \"column\": \"price_per_sqft\",\n",
    "        \"legend\": True,\n",
    "        \"legend_kwds\": {\"label\": \"price_per_sqft\"},\n",
    "        \"edgecolor\": None,\n",
    "        \"divider_kwds\": {\"position\": \"right\", \"size\": \"5%\", \"pad\": 0.1},\n",
    "    },\n",
    ")"
   ]
  },
  {
   "cell_type": "code",
   "execution_count": null,
   "metadata": {},
   "outputs": [],
   "source": []
  }
 ],
 "metadata": {
  "kernelspec": {
   "display_name": "venv",
   "language": "python",
   "name": "python3"
  },
  "language_info": {
   "codemirror_mode": {
    "name": "ipython",
    "version": 3
   },
   "file_extension": ".py",
   "mimetype": "text/x-python",
   "name": "python",
   "nbconvert_exporter": "python",
   "pygments_lexer": "ipython3",
   "version": "3.9.19"
  }
 },
 "nbformat": 4,
 "nbformat_minor": 2
}
