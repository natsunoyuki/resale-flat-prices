{
 "cells": [
  {
   "cell_type": "markdown",
   "metadata": {},
   "source": [
    "# Geocoded Address JSON to GEOJSON\n",
    "\n",
    "Originally the addresses geocoded using `nominatim` was saved as an ordinary JSON file. This notebook convers that file to a GEOJSON file."
   ]
  },
  {
   "cell_type": "code",
   "execution_count": 1,
   "metadata": {},
   "outputs": [],
   "source": [
    "import json\n",
    "import geopandas\n",
    "\n",
    "\n",
    "with open(\"../data/processed_data/geocoded_addresses.json\", \"r\") as f:\n",
    "    address_dict = json.load(f)\n",
    "\n",
    "address_df = geopandas.GeoDataFrame(address_dict)\n",
    "address_df = address_df.T\n",
    "address_df = address_df.rename(columns={\"address\": \"geocoded_address\"})\n",
    "address_df = address_df.reset_index().rename(columns={\"index\": \"address\"})\n",
    "geometry = geopandas.points_from_xy(address_df[\"longitude\"], address_df[\"latitude\"], crs = \"EPSG:4326\")\n",
    "address_df = address_df.set_geometry(geometry)\n",
    "\n",
    "address_df.to_file(\"../data/processed_data/hdb_addresses.json\", driver=\"GeoJSON\")"
   ]
  },
  {
   "cell_type": "code",
   "execution_count": null,
   "metadata": {},
   "outputs": [],
   "source": []
  }
 ],
 "metadata": {
  "kernelspec": {
   "display_name": "venv",
   "language": "python",
   "name": "python3"
  },
  "language_info": {
   "codemirror_mode": {
    "name": "ipython",
    "version": 3
   },
   "file_extension": ".py",
   "mimetype": "text/x-python",
   "name": "python",
   "nbconvert_exporter": "python",
   "pygments_lexer": "ipython3",
   "version": "3.11.11"
  }
 },
 "nbformat": 4,
 "nbformat_minor": 2
}
