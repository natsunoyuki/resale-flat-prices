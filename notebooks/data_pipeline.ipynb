{
 "cells": [
  {
   "cell_type": "markdown",
   "metadata": {},
   "source": [
    "# Data Pipeline\n",
    "\n",
    "1. Load and process CSV files published on https://data.gov.sg/collections/189/view.\n",
    "2. Load any existing geocoded addresses.\n",
    "3. Update geocoded addresses.\n",
    "4. Make H3 geometries.\n",
    "5. Output data to disk for further downstream analytics."
   ]
  },
  {
   "cell_type": "code",
   "execution_count": 1,
   "metadata": {},
   "outputs": [],
   "source": [
    "import sys\n",
    "sys.dont_write_bytecode = True\n",
    "\n",
    "import os\n",
    "from pathlib import Path\n",
    "\n",
    "import numpy as np\n",
    "import matplotlib.pyplot as plt\n",
    "import pandas as pd\n",
    "import geopandas\n",
    "\n",
    "import h3\n",
    "import matplotlib.pyplot as plt\n",
    "import contextily as cx\n",
    "\n",
    "# Local imports.\n",
    "from resale_flat_prices.csv_data.csv_data import CsvData\n",
    "from resale_flat_prices.geocode.geocoded_addresses import GeocodedAddresses\n",
    "from resale_flat_prices.h3_utils.h3_statistics import grid_ring_monthly_median_price\n",
    "from resale_flat_prices.h3_utils.h3_vis_utils import plot_df\n",
    "\n",
    "\n",
    "# Data directories.\n",
    "csv_data_dir = Path(\"../data/ResaleFlatPrices/\")\n",
    "processed_data_dir = Path(\"../data/processed_data/\")"
   ]
  },
  {
   "cell_type": "code",
   "execution_count": 2,
   "metadata": {},
   "outputs": [
    {
     "name": "stdout",
     "output_type": "stream",
     "text": [
      "Loaded and compiled CSV data into shape (940168, 21).\n"
     ]
    }
   ],
   "source": [
    "# Load and process raw CSV files published on https://data.gov.sg/collections/189/view.\n",
    "csv_data = CsvData(csv_data_dir, wanted_columns = \"default\")\n",
    "csv_data.load_csv_files()\n",
    "csv_data.compile_csv_data()\n",
    "csv_data.process_csv_data()\n",
    "print(\"Loaded and compiled CSV data into shape {}.\".format(csv_data.df.shape))"
   ]
  },
  {
   "cell_type": "code",
   "execution_count": 3,
   "metadata": {},
   "outputs": [
    {
     "name": "stdout",
     "output_type": "stream",
     "text": [
      "Loaded 9867 existing geocoded addresses.\n",
      "Found 0 new addresses to be geocoded in loaded CSV data.\n"
     ]
    }
   ],
   "source": [
    "# Load geocoded addresses.\n",
    "geocoded_addresses = GeocodedAddresses()\n",
    "geocoded_addresses.read_json(processed_data_dir / \"geocoded_addresses.json\")\n",
    "print(\"Loaded {} existing geocoded addresses.\".format(len(geocoded_addresses.address_dict)))\n",
    "\n",
    "# Check for new addresses to be geocoded.\n",
    "all_unique_addresses = set(csv_data.df[\"address\"].unique())\n",
    "all_unique_geocoded_addresses = geocoded_addresses.get_all_geocoded_addresses()\n",
    "\n",
    "# Update new geocoded addresses.\n",
    "missing_addresses = all_unique_addresses.difference(all_unique_geocoded_addresses)\n",
    "print(\"Found {} new addresses to be geocoded in loaded CSV data.\".format(len(missing_addresses)))\n",
    "if len(missing_addresses) > 0:\n",
    "    print(\"Updating {} new geocoded addresses.\".format(len(missing_addresses)))\n",
    "    geocoded_addresses.update_geocoded_addresses(missing_addresses)\n",
    "    geocoded_addresses.to_json(processed_data_dir / \"geocoded_addresses.json\")\n",
    "\n",
    "# Check for problematic geocodes.\n",
    "problem_addresses = geocoded_addresses.verify_geocoded_latitudes_and_longitudes(country = \"SINGAPORE\")\n",
    "if len(problem_addresses) > 0:\n",
    "    print(\"Warning - the following {} addresses do not seem to have been geocoded correctly.\".format(\n",
    "        len(problem_addresses))\n",
    "    )\n",
    "    for i, p in enumerate(problem_addresses):\n",
    "        print(\"{:05d}: {}.\".format(i, p))"
   ]
  },
  {
   "cell_type": "code",
   "execution_count": 4,
   "metadata": {},
   "outputs": [],
   "source": [
    "# Merge geocoded addresses with the CSV data.\n",
    "geocode_df = geocoded_addresses.address_dict_to_df()\n",
    "csv_df = csv_data.get_df()\n",
    "processed_data_df = pd.merge(left=csv_df, right=geocode_df, left_on=\"address\", right_on=\"address\", how=\"left\")"
   ]
  },
  {
   "cell_type": "code",
   "execution_count": 5,
   "metadata": {},
   "outputs": [
    {
     "name": "stdout",
     "output_type": "stream",
     "text": [
      "Saving processed data to ../data/processed_data/resale-flat-prices.csv.zip.\n"
     ]
    }
   ],
   "source": [
    "output_csv_file = \"resale-flat-prices.csv.zip\"\n",
    "\n",
    "# Output the merged processed data to disk.\n",
    "if output_csv_file[-3:] == \"zip\":\n",
    "    compression = \"zip\"\n",
    "else:\n",
    "    compression = None\n",
    "print(\"Saving processed data to {}.\".format(processed_data_dir / output_csv_file))\n",
    "processed_data_df.to_csv(processed_data_dir / output_csv_file, index = False, compression = compression)"
   ]
  },
  {
   "cell_type": "code",
   "execution_count": null,
   "metadata": {},
   "outputs": [],
   "source": []
  }
 ],
 "metadata": {
  "kernelspec": {
   "display_name": "venv",
   "language": "python",
   "name": "python3"
  },
  "language_info": {
   "codemirror_mode": {
    "name": "ipython",
    "version": 3
   },
   "file_extension": ".py",
   "mimetype": "text/x-python",
   "name": "python",
   "nbconvert_exporter": "python",
   "pygments_lexer": "ipython3",
   "version": "3.9.19"
  }
 },
 "nbformat": 4,
 "nbformat_minor": 2
}
