{
 "cells": [
  {
   "cell_type": "markdown",
   "metadata": {},
   "source": [
    "# Data Pipeline\n",
    "\n",
    "Notebook version of `tools/data_pipeline.py`, explicitly demonstrating all the steps in loading the published resale data from CSV files to processing and saving them as a ZIP file.\n",
    "\n",
    "1. Load and process CSV files published on https://data.gov.sg/collections/189/view.\n",
    "2. Load any existing geocoded addresses.\n",
    "3. Update geocoded addresses.\n",
    "4. Make H3 geometries.\n",
    "5. Output data to disk for further downstream analytics."
   ]
  },
  {
   "cell_type": "code",
   "execution_count": null,
   "metadata": {},
   "outputs": [],
   "source": [
    "import sys\n",
    "sys.dont_write_bytecode = True\n",
    "\n",
    "from pathlib import Path\n",
    "import pandas as pd\n",
    "\n",
    "\n",
    "# Local imports.\n",
    "from resale_flat_prices.csv_data.resale_csv_data import ResaleCsvData\n",
    "from resale_flat_prices.geocode.geocoded_addresses import GeocodedAddresses\n",
    "from resale_flat_prices.csv_data.rent_csv_data import RentCsvData\n",
    "\n",
    "\n",
    "# Data directories.\n",
    "csv_data_dir = Path(\"../data/ResaleFlatPrices/\")\n",
    "processed_data_dir = Path(\"../data/processed_data/\")\n",
    "rent_csv_data_file = Path(\"../data/RentingOutofFlats/RentingOutofFlats2024CSV.csv\")"
   ]
  },
  {
   "cell_type": "code",
   "execution_count": null,
   "metadata": {},
   "outputs": [],
   "source": [
    "# Load and process raw resale CSV files published on https://data.gov.sg/collections/189/view.\n",
    "csv_data = ResaleCsvData(csv_data_dir, wanted_columns = \"default\")\n",
    "csv_data.load_csv_files()\n",
    "csv_data.compile_csv_data()\n",
    "csv_data.process_csv_data()\n",
    "print(\"Loaded and compiled resale prices CSV data into shape {}.\".format(csv_data.df.shape))"
   ]
  },
  {
   "cell_type": "code",
   "execution_count": null,
   "metadata": {},
   "outputs": [],
   "source": [
    "# Load and process raw rent CSV files published on https://data.gov.sg/datasets/d_c9f57187485a850908655db0e8cfe651/view\n",
    "rent_csv_data = RentCsvData(rent_csv_data_file)\n",
    "rent_csv_data.load_csv_file()\n",
    "rent_csv_data.process_csv_data()\n",
    "print(\"Loaded and compiled rent CSV data into shape {}.\".format(rent_csv_data.df.shape))"
   ]
  },
  {
   "cell_type": "code",
   "execution_count": null,
   "metadata": {},
   "outputs": [],
   "source": [
    "# Load geocoded addresses.\n",
    "geocoded_addresses = GeocodedAddresses()\n",
    "geocoded_addresses.read_json(processed_data_dir / \"geocoded_addresses.json\")\n",
    "print(\"Loaded {} existing geocoded addresses.\".format(len(geocoded_addresses.address_dict)))\n",
    "\n",
    "# Check for new addresses to be geocoded.\n",
    "all_unique_addresses = set(csv_data.df[\"address\"].unique())\n",
    "all_unique_geocoded_addresses = geocoded_addresses.get_all_geocoded_addresses()\n",
    "\n",
    "# Update new geocoded addresses.\n",
    "missing_addresses = all_unique_addresses.difference(all_unique_geocoded_addresses)\n",
    "print(\"Found {} new addresses to be geocoded in loaded CSV data.\".format(len(missing_addresses)))\n",
    "if len(missing_addresses) > 0:\n",
    "    print(\"Updating {} new geocoded addresses.\".format(len(missing_addresses)))\n",
    "    geocoded_addresses.update_geocoded_addresses(missing_addresses)\n",
    "    geocoded_addresses.to_json(processed_data_dir / \"geocoded_addresses.json\")\n",
    "\n",
    "# Check for problematic geocodes.\n",
    "problem_addresses = geocoded_addresses.verify_geocoded_latitudes_and_longitudes(country = \"SINGAPORE\")\n",
    "if len(problem_addresses) > 0:\n",
    "    print(\"Warning - the following {} addresses do not seem to have been geocoded correctly.\".format(\n",
    "        len(problem_addresses))\n",
    "    )\n",
    "    for i, p in enumerate(problem_addresses):\n",
    "        print(\"{:05d}: {}.\".format(i, p))"
   ]
  },
  {
   "cell_type": "code",
   "execution_count": null,
   "metadata": {},
   "outputs": [],
   "source": [
    "# Merge geocoded addresses with the resale prices CSV data.\n",
    "geocode_df = geocoded_addresses.address_dict_to_df()\n",
    "csv_df = csv_data.get_df()\n",
    "processed_data_df = pd.merge(left=csv_df, right=geocode_df, left_on=\"address\", right_on=\"address\", how=\"left\")\n",
    "\n",
    "print(\"Merged resale prices data shape: {}.\".format(processed_data_df.shape))"
   ]
  },
  {
   "cell_type": "code",
   "execution_count": null,
   "metadata": {},
   "outputs": [],
   "source": [
    "# Merge geocoded addresses with the rent CSV data.\n",
    "rent_csv_df = rent_csv_data.get_df()\n",
    "processed_rent_data_df = pd.merge(left=rent_csv_df, right=geocode_df, left_on=\"address\", right_on=\"address\", how=\"left\")\n",
    "print(\"Merged rent data shape: {}.\".format(processed_rent_data_df.shape))"
   ]
  },
  {
   "cell_type": "code",
   "execution_count": null,
   "metadata": {},
   "outputs": [],
   "source": [
    "output_csv_file = \"resale-flat-prices.csv.zip\"\n",
    "\n",
    "# Output the merged processed data to disk.\n",
    "if output_csv_file[-3:] == \"zip\":\n",
    "    compression = \"zip\"\n",
    "else:\n",
    "    compression = None\n",
    "print(\"Saving processed resale prices data to {}.\".format(processed_data_dir / output_csv_file))\n",
    "processed_data_df.to_csv(processed_data_dir / output_csv_file, index = False, compression = compression)"
   ]
  },
  {
   "cell_type": "code",
   "execution_count": null,
   "metadata": {},
   "outputs": [],
   "source": [
    "output_rent_csv_file = \"rent-prices.csv.zip\"\n",
    "\n",
    "# Output the merged processed data to disk.\n",
    "if output_rent_csv_file[-3:] == \"zip\":\n",
    "    compression = \"zip\"\n",
    "else:\n",
    "    compression = None\n",
    "print(\"Saving processed rent data to {}.\".format(processed_data_dir / output_rent_csv_file))\n",
    "processed_rent_data_df.to_csv(processed_data_dir / output_rent_csv_file, index = False, compression = compression)"
   ]
  },
  {
   "cell_type": "code",
   "execution_count": null,
   "metadata": {},
   "outputs": [],
   "source": []
  }
 ],
 "metadata": {
  "kernelspec": {
   "display_name": "venv",
   "language": "python",
   "name": "python3"
  },
  "language_info": {
   "codemirror_mode": {
    "name": "ipython",
    "version": 3
   },
   "file_extension": ".py",
   "mimetype": "text/x-python",
   "name": "python",
   "nbconvert_exporter": "python",
   "pygments_lexer": "ipython3",
   "version": "3.9.19"
  }
 },
 "nbformat": 4,
 "nbformat_minor": 2
}
