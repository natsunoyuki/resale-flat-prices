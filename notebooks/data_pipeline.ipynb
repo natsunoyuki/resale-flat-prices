{
 "cells": [
  {
   "cell_type": "markdown",
   "metadata": {},
   "source": [
    "# Data Pipeline\n",
    "\n",
    "1. Load and process CSV files published on https://data.gov.sg/collections/189/view.\n",
    "2. Load any existing geocoded addresses.\n",
    "3. Update geocoded addresses.\n",
    "4. Make H3 geometries.\n",
    "5. Output data to disk for further downstream analytics."
   ]
  },
  {
   "cell_type": "code",
   "execution_count": null,
   "metadata": {},
   "outputs": [],
   "source": [
    "import sys\n",
    "sys.dont_write_bytecode = True\n",
    "\n",
    "import os\n",
    "from pathlib import Path\n",
    "\n",
    "import numpy as np\n",
    "import matplotlib.pyplot as plt\n",
    "import pandas as pd\n",
    "import geopandas\n",
    "\n",
    "import h3\n",
    "import matplotlib.pyplot as plt\n",
    "import contextily as cx\n",
    "\n",
    "# Local imports.\n",
    "from resale_flat_prices.csv_data.csv_data import CsvData\n",
    "from resale_flat_prices.geocode.geocoded_addresses import GeocodedAddresses\n",
    "from resale_flat_prices.h3_utils.h3_statistics import grid_ring_monthly_median_price\n",
    "from resale_flat_prices.h3_utils.h3_vis_utils import plot_df\n",
    "\n",
    "\n",
    "# Data directories.\n",
    "csv_data_dir = Path(\"../data/ResaleFlatPrices/\")\n",
    "processed_data_dir = Path(\"../data/processed_data/\")"
   ]
  },
  {
   "cell_type": "code",
   "execution_count": null,
   "metadata": {},
   "outputs": [],
   "source": [
    "csv_data = CsvData(csv_data_dir, wanted_columns = \"default\")\n",
    "csv_data.load_csv_files()\n",
    "csv_data.compile_csv_data()\n",
    "csv_data.process_csv_data()\n",
    "\n",
    "print(type(csv_data.df), csv_data.df.shape)"
   ]
  },
  {
   "cell_type": "code",
   "execution_count": null,
   "metadata": {},
   "outputs": [],
   "source": [
    "geocoded_addresses = GeocodedAddresses()\n",
    "geocoded_addresses.read_json(processed_data_dir / \"geocoded_addresses.json\")"
   ]
  },
  {
   "cell_type": "code",
   "execution_count": null,
   "metadata": {},
   "outputs": [],
   "source": [
    "all_unique_addresses = set(csv_data.df[\"address\"].unique())\n",
    "all_unique_geocoded_addresses = geocoded_addresses.get_all_geocoded_addresses()\n",
    "\n",
    "missing_addresses = all_unique_addresses.difference(all_unique_geocoded_addresses)\n",
    "print(len(missing_addresses))\n",
    "\n",
    "problem_addresses = geocoded_addresses.verify_geocoded_latitudes_and_longitudes(country = \"SINGAPORE\")\n",
    "print(len(problem_addresses))"
   ]
  },
  {
   "cell_type": "code",
   "execution_count": null,
   "metadata": {},
   "outputs": [],
   "source": [
    "RESOLUTION = 9\n",
    "right_df = geocoded_addresses.make_h3_geometries(resolution = RESOLUTION, crs = \"EPSG:4326\")\n",
    "left_df = csv_data.get_df()\n",
    "\n",
    "df = pd.merge(left = left_df, right = right_df, left_on = \"address\", right_on = \"address\", how = \"left\")\n",
    "df = geopandas.GeoDataFrame(df, crs = right_df.crs)\n",
    "\n",
    "unique_cells = df[[\"h3\", \"geometry\"]].drop_duplicates()\n",
    "\n",
    "display(df[[\"year_month\", \"town\", \"flat_type\", \"block\", \"street_name\", \"storey_range\", \"price_per_sqft\", \"price_per_sqm\"]].head())\n",
    "print(df.shape)"
   ]
  },
  {
   "cell_type": "code",
   "execution_count": null,
   "metadata": {},
   "outputs": [],
   "source": [
    "year_months = [\"2024-11\", \"2024-10\", \"2024-09\", \"2024-08\", \"2024-07\", \"2024-06\", \"2024-05\"]\n",
    "price_column = \"price_per_sqft\"\n",
    "\n",
    "median_prices_df = grid_ring_monthly_median_price(\n",
    "    df,\n",
    "    date_column = \"year_month\", \n",
    "    price_column = price_column,\n",
    "    grid_ring_distance = 1, \n",
    "    h3_column_name = \"h3\",\n",
    ")\n",
    "median_prices_df = geopandas.GeoDataFrame(median_prices_df)\n",
    "\n",
    "median_prices_df_want = median_prices_df[median_prices_df[\"year_month\"].isin(year_months)]\n",
    "median_prices_df_want = median_prices_df_want.merge(right = unique_cells, left_on = \"h3\", right_on = \"h3\", how = \"left\")\n",
    "median_prices_df_want = median_prices_df_want.groupby([\"year_month\", \"h3\", \"geometry\"]).aggregate(\"mean\").reset_index()\n",
    "median_prices_df_want = geopandas.GeoDataFrame(median_prices_df_want, crs = df.crs)"
   ]
  },
  {
   "cell_type": "code",
   "execution_count": null,
   "metadata": {},
   "outputs": [],
   "source": [
    "median_prices_df_want.head()"
   ]
  },
  {
   "cell_type": "code",
   "execution_count": null,
   "metadata": {},
   "outputs": [],
   "source": [
    "longitude_range = [103.60147592822032, 104.04413678697101]\n",
    "latitude_range = [1.235860328951441, 1.473569847248408]\n",
    "\n",
    "\n",
    "plot_df(\n",
    "    df = median_prices_df_want, \n",
    "    plot_kwds = {\n",
    "        \"figsize\": [10, 10], \n",
    "        \"xlim\": longitude_range,\n",
    "        \"ylim\": latitude_range,\n",
    "        \"column\": price_column, \n",
    "        \"alpha\": 0.5,\n",
    "        \"categorical\": False,\n",
    "        \"legend\": True,\n",
    "        \"legend_kwds\": {\"label\": price_column},\n",
    "        \"edgecolor\": None,\n",
    "        \"divider_kwds\": {\"position\": \"right\", \"size\": \"5%\", \"pad\": 0.1},\n",
    "    }\n",
    ")"
   ]
  },
  {
   "cell_type": "code",
   "execution_count": null,
   "metadata": {},
   "outputs": [],
   "source": []
  }
 ],
 "metadata": {
  "kernelspec": {
   "display_name": "venv",
   "language": "python",
   "name": "python3"
  },
  "language_info": {
   "codemirror_mode": {
    "name": "ipython",
    "version": 3
   },
   "file_extension": ".py",
   "mimetype": "text/x-python",
   "name": "python",
   "nbconvert_exporter": "python",
   "pygments_lexer": "ipython3",
   "version": "3.9.19"
  }
 },
 "nbformat": 4,
 "nbformat_minor": 2
}
